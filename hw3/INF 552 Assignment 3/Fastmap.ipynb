{
 "cells": [
  {
   "cell_type": "code",
   "execution_count": 2,
   "metadata": {},
   "outputs": [],
   "source": [
    "# Name: Wenkai Xu \n",
    "# Some of my ideas of my code are borrowed from others\n",
    "# Here is the referrences:\n",
    "# 1.https://github.com/mahmoudimus/pyfastmap/blob/master/stringmap.py#L135\n",
    "# 2.http://gromgull.net/2009/08/fastmap.py \n",
    "\n",
    "\n",
    "import pandas as pd\n",
    "import numpy as np\n",
    "import math\n",
    "import random\n",
    "import scipy"
   ]
  },
  {
   "cell_type": "code",
   "execution_count": 4,
   "metadata": {},
   "outputs": [
    {
     "data": {
      "text/plain": [
       "array([[ 1,  2,  4],\n",
       "       [ 1,  3,  7],\n",
       "       [ 1,  4,  6],\n",
       "       [ 1,  5,  7],\n",
       "       [ 1,  6,  7],\n",
       "       [ 1,  7,  4],\n",
       "       [ 1,  8,  6],\n",
       "       [ 1,  9,  6],\n",
       "       [ 1, 10, 10],\n",
       "       [ 2,  3,  7],\n",
       "       [ 2,  4,  7],\n",
       "       [ 2,  5,  8],\n",
       "       [ 2,  6,  9],\n",
       "       [ 2,  7,  2],\n",
       "       [ 2,  8,  8],\n",
       "       [ 2,  9,  8],\n",
       "       [ 2, 10, 11],\n",
       "       [ 3,  4,  5],\n",
       "       [ 3,  5,  6],\n",
       "       [ 3,  6, 10],\n",
       "       [ 3,  7,  6],\n",
       "       [ 3,  8,  6],\n",
       "       [ 3,  9,  6],\n",
       "       [ 3, 10, 12],\n",
       "       [ 4,  5,  2],\n",
       "       [ 4,  6, 10],\n",
       "       [ 4,  7,  7],\n",
       "       [ 4,  8,  4],\n",
       "       [ 4,  9,  5],\n",
       "       [ 4, 10, 12],\n",
       "       [ 5,  6, 10],\n",
       "       [ 5,  7,  8],\n",
       "       [ 5,  8,  5],\n",
       "       [ 5,  9,  4],\n",
       "       [ 5, 10, 11],\n",
       "       [ 6,  7,  9],\n",
       "       [ 6,  8, 10],\n",
       "       [ 6,  9,  9],\n",
       "       [ 6, 10,  4],\n",
       "       [ 7,  8,  8],\n",
       "       [ 7,  9,  8],\n",
       "       [ 7, 10, 11],\n",
       "       [ 8,  9,  2],\n",
       "       [ 8, 10, 12],\n",
       "       [ 9, 10, 11]], dtype=int64)"
      ]
     },
     "execution_count": 4,
     "metadata": {},
     "output_type": "execute_result"
    }
   ],
   "source": [
    "df=pd.read_csv('C:/Users/Tod Xu/Desktop/USC/INF 552/Homework/3/hw3/fastmap-data.txt',sep='\\t',header=None )\n",
    "df\n",
    "ar=df.values\n",
    "ar"
   ]
  },
  {
   "cell_type": "code",
   "execution_count": 5,
   "metadata": {},
   "outputs": [
    {
     "data": {
      "text/plain": [
       "array([[ 0.,  4.,  7.,  6.,  7.,  7.,  4.,  6.,  6., 10.],\n",
       "       [ 4.,  0.,  7.,  7.,  8.,  9.,  2.,  8.,  8., 11.],\n",
       "       [ 7.,  7.,  0.,  5.,  6., 10.,  6.,  6.,  6., 12.],\n",
       "       [ 6.,  7.,  5.,  0.,  2., 10.,  7.,  4.,  5., 12.],\n",
       "       [ 7.,  8.,  6.,  2.,  0., 10.,  8.,  5.,  4., 11.],\n",
       "       [ 7.,  9., 10., 10., 10.,  0.,  9., 10.,  9.,  4.],\n",
       "       [ 4.,  2.,  6.,  7.,  8.,  9.,  0.,  8.,  8., 11.],\n",
       "       [ 6.,  8.,  6.,  4.,  5., 10.,  8.,  0.,  2., 12.],\n",
       "       [ 6.,  8.,  6.,  5.,  4.,  9.,  8.,  2.,  0., 11.],\n",
       "       [10., 11., 12., 12., 11.,  4., 11., 12., 11.,  0.]])"
      ]
     },
     "execution_count": 5,
     "metadata": {},
     "output_type": "execute_result"
    }
   ],
   "source": [
    "# Here is to change the given data into the distance Matrix\n",
    "dm=scipy.zeros((10,10))\n",
    "for x in range(len(ar)):\n",
    "    i=ar[x][0]-1\n",
    "    j=ar[x][1]-1\n",
    "    dm[i,j]=ar[x][2]\n",
    "    dm[j,i]=ar[x][2]\n",
    "dm"
   ]
  },
  {
   "cell_type": "code",
   "execution_count": 6,
   "metadata": {},
   "outputs": [],
   "source": [
    "# The wordlist\n",
    "strings=[\"acting\",\"activist\",\"compute\",\"coward\",\"forward\",\"interaction\",\"activity\",\"odor\",\"order\",\"international\"]\n"
   ]
  },
  {
   "cell_type": "code",
   "execution_count": 18,
   "metadata": {},
   "outputs": [
    {
     "data": {
      "image/png": "[encoded data removed]",
      "text/plain": [
       "<Figure size 432x288 with 1 Axes>"
      ]
     },
     "metadata": {},
     "output_type": "display_data"
    },
    {
     "data": {
      "text/plain": [
       "array([[ 313.5,  313.5],\n",
       "       [ 352. ,  352. ],\n",
       "       [  71.5,   71.5],\n",
       "       [  11. ,   11. ],\n",
       "       [  88. ,   88. ],\n",
       "       [1023. , 1023. ],\n",
       "       [ 352. ,  352. ],\n",
       "       [-104.5, -104.5],\n",
       "       [   0. ,    0. ],\n",
       "       [1331. , 1331. ]])"
      ]
     },
     "execution_count": 18,
     "metadata": {},
     "output_type": "execute_result"
    }
   ],
   "source": [
    "# Call the fastmap function and the plot\n",
    "\n",
    "result=Fastmap(dm).result()\n",
    "import pylab    \n",
    "pylab.scatter([x[0] for x in result], [x[1] for x in result])\n",
    "\n",
    "for i,j in enumerate(strings):\n",
    "    pylab.annotate(j,p[i])\n",
    "pylab.show()\n",
    "result"
   ]
  },
  {
   "cell_type": "code",
   "execution_count": 17,
   "metadata": {},
   "outputs": [],
   "source": [
    "# Here is the Fastmap class and we initialize the dimension as 2 \n",
    "# to embed the objects into 2-D space.\n",
    "# Here is the brief heuristic of Fastmap algorithm:\n",
    "# 1.We find the furthest distance points.\n",
    "# 2.We make these 2 points' line as a dimension and then project \n",
    "# all other points along the line.\n",
    "# We implement this by calling map() and distance() function recursively.\n",
    "\n",
    "class Fastmap:\n",
    "    def __init__(self,Distance_Matrix):    # initial values\n",
    "        self.M=Distance_Matrix\n",
    "    \n",
    "        self.D=2                           # This is the targeted dimension \n",
    "        self.column=0                      # The current column we are working at.\n",
    "        self.r=scipy.zeros((10,self.D))         # The result point pairs in 2-D.\n",
    "        self.point=scipy.zeros((self.D,2))      # This is the furthest points in 2-D space\n",
    "\n",
    "    def result(self):\n",
    "        self.map(2)\n",
    "        return self.r\n",
    "    \n",
    "    def map(self,D):\n",
    "        if D==0: return\n",
    "        localmax=-111111\n",
    "        for x in range (0,len(self.M)-1):                          # For this part, we are going to find the furthest distance\n",
    "            for y in range (x+1,len(self.M)):\n",
    "                if(self.Distance(x,y, self.column)>localmax):\n",
    "                    localmax=self.Distance(x,y,self.column)\n",
    "                    p1=x\n",
    "                    p2=y\n",
    "        self.point[self.column]=(p1,p2)                            # p1,p2 are the coordinates of both points\n",
    "          \n",
    "        if self.Distance(p1,p2,self.column)==0: \n",
    "            return \n",
    "        for i in range(len(self.M)):                               # Here is the projection of the ith point on to the chose points\n",
    "            dix=self.Distance(i,x,self.column)\n",
    "            diy=self.Distance(i,y,self.column)\n",
    "            dxy=self.Distance(x,y,self.column)\n",
    "            \n",
    "            self.r[i][self.column]=(dix + dxy - diy) / 2*math.sqrt(dxy)\n",
    "\n",
    "        self.column=self.column + 1\n",
    "        self.map(D-1)                                              # Call map recursively\n",
    "        \n",
    "    def Distance(self,x,y,col):                                    # Distance function is to compute the distances based on projection before\n",
    "        if col==0: return self.M[x,y]**2\n",
    "    \n",
    "        m=self.Distance(x,y,col-1)\n",
    "        n=(self.r[x][col] - self.r[y][col])**2\n",
    "        return m-n\n",
    "\n",
    "          "
   ]
  },
  {
   "cell_type": "code",
   "execution_count": 27,
   "metadata": {},
   "outputs": [],
   "source": []
  },
  {
   "cell_type": "code",
   "execution_count": null,
   "metadata": {},
   "outputs": [],
   "source": []
  },
  {
   "cell_type": "code",
   "execution_count": null,
   "metadata": {},
   "outputs": [],
   "source": []
  },
  {
   "cell_type": "code",
   "execution_count": null,
   "metadata": {},
   "outputs": [],
   "source": []
  },
  {
   "cell_type": "code",
   "execution_count": null,
   "metadata": {},
   "outputs": [],
   "source": []
  },
  {
   "cell_type": "code",
   "execution_count": null,
   "metadata": {},
   "outputs": [],
   "source": []
  },
  {
   "cell_type": "code",
   "execution_count": null,
   "metadata": {},
   "outputs": [],
   "source": []
  },
  {
   "cell_type": "code",
   "execution_count": null,
   "metadata": {},
   "outputs": [],
   "source": []
  },
  {
   "cell_type": "code",
   "execution_count": null,
   "metadata": {},
   "outputs": [],
   "source": []
  },
  {
   "cell_type": "code",
   "execution_count": null,
   "metadata": {},
   "outputs": [],
   "source": []
  },
  {
   "cell_type": "code",
   "execution_count": null,
   "metadata": {},
   "outputs": [],
   "source": []
  },
  {
   "cell_type": "code",
   "execution_count": null,
   "metadata": {},
   "outputs": [],
   "source": []
  },
  {
   "cell_type": "code",
   "execution_count": null,
   "metadata": {},
   "outputs": [],
   "source": []
  },
  {
   "cell_type": "code",
   "execution_count": null,
   "metadata": {},
   "outputs": [],
   "source": []
  },
  {
   "cell_type": "code",
   "execution_count": null,
   "metadata": {},
   "outputs": [],
   "source": []
  },
  {
   "cell_type": "code",
   "execution_count": null,
   "metadata": {},
   "outputs": [],
   "source": []
  }
 ],
 "metadata": {
  "kernelspec": {
   "display_name": "Python 2",
   "language": "python",
   "name": "python2"
  },
  "language_info": {
   "codemirror_mode": {
    "name": "ipython",
    "version": 2
   },
   "file_extension": ".py",
   "mimetype": "text/x-python",
   "name": "python",
   "nbconvert_exporter": "python",
   "pygments_lexer": "ipython2",
   "version": "2.7.15"
  }
 },
 "nbformat": 4,
 "nbformat_minor": 2
}
