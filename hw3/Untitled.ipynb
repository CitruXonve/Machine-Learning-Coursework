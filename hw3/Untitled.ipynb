{
 "cells": [
  {
   "cell_type": "code",
   "execution_count": 41,
   "metadata": {},
   "outputs": [
    {
     "data": {
      "text/plain": [
       "array([[  5.90626285,  -7.72946458,   9.14494487],\n",
       "       [ -8.64032311,   1.72426044, -10.69680519],\n",
       "       [  0.25854061,   0.23062224,   0.76743916],\n",
       "       ...,\n",
       "       [ -3.69142791,  -0.474338  ,   0.55020057],\n",
       "       [  7.63831529,  -4.47583291,   8.15392291],\n",
       "       [  9.72207756,  -8.50135442,   8.8424068 ]])"
      ]
     },
     "execution_count": 41,
     "metadata": {},
     "output_type": "execute_result"
    }
   ],
   "source": [
    "import numpy as np\n",
    "from sklearn.preprocessing import StandardScaler\n",
    "\n",
    "# Read data from file\n",
    "input_f = open('pca-data.txt', 'r')\n",
    "data = input_f.readlines()\n",
    "x = []\n",
    "for record in data:\n",
    "    x.append(record.split())\n",
    "X = np.array(x).astype(np.float)\n",
    "original_x = X.copy()\n",
    "original_x"
   ]
  },
  {
   "cell_type": "code",
   "execution_count": 42,
   "metadata": {},
   "outputs": [
    {
     "data": {
      "text/plain": [
       "array([[ 1.00016669, -0.47486543,  0.62744169],\n",
       "       [-0.47486543,  1.00016669, -0.73642685],\n",
       "       [ 0.62744169, -0.73642685,  1.00016669]])"
      ]
     },
     "execution_count": 42,
     "metadata": {},
     "output_type": "execute_result"
    }
   ],
   "source": [
    "X = StandardScaler().fit_transform(X)\n",
    "\n",
    "# Compute the mean of the data\n",
    "mean_vec = np.mean(X, axis=0)\n",
    "\n",
    "# Compute the covariance matrix\n",
    "cov_mat = (X - mean_vec).T.dot((X - mean_vec)) / (X.shape[0]-1)\n",
    "\n",
    "\n",
    "# OR we can do this with one line of numpy:\n",
    "# cov_mat = np.cov(X.T)\n",
    "cov_mat"
   ]
  },
  {
   "cell_type": "code",
   "execution_count": 43,
   "metadata": {},
   "outputs": [
    {
     "data": {
      "text/plain": [
       "(array([2.23212305, 0.53656107, 0.23181596]),\n",
       " array([[ 0.53627113, -0.79599505, -0.28072256],\n",
       "        [-0.57568437, -0.58816792,  0.56801937],\n",
       "        [ 0.61725261,  0.1430048 ,  0.77365938]]))"
      ]
     },
     "execution_count": 43,
     "metadata": {},
     "output_type": "execute_result"
    }
   ],
   "source": [
    "# Compute the eigen values and vectors using numpy\n",
    "eig_vals, eig_vecs = np.linalg.eig(cov_mat)\n",
    "eig_vals, eig_vecs"
   ]
  },
  {
   "cell_type": "code",
   "execution_count": 44,
   "metadata": {},
   "outputs": [
    {
     "data": {
      "text/plain": [
       "[(2.2321230533155125, array([ 0.53627113, -0.57568437,  0.61725261])),\n",
       " (0.5365610685970897, array([-0.79599505, -0.58816792,  0.1430048 ])),\n",
       " (0.231815961434618, array([-0.28072256,  0.56801937,  0.77365938]))]"
      ]
     },
     "execution_count": 44,
     "metadata": {},
     "output_type": "execute_result"
    }
   ],
   "source": [
    "# Make a list of (eigenvalue, eigenvector) tuples\n",
    "eig_pairs = [(np.abs(eig_vals[i]), eig_vecs[:,i]) for i in range(len(eig_vals))]\n",
    "\n",
    "# Sort the (eigenvalue, eigenvector) tuples from high to low\n",
    "eig_pairs.sort(key=lambda x: x[0], reverse=True)\n",
    "eig_pairs"
   ]
  },
  {
   "cell_type": "code",
   "execution_count": 45,
   "metadata": {},
   "outputs": [
    {
     "data": {
      "text/plain": [
       "array([[ 0.53627113, -0.79599505],\n",
       "       [-0.57568437, -0.58816792],\n",
       "       [ 0.61725261,  0.1430048 ]])"
      ]
     },
     "execution_count": 45,
     "metadata": {},
     "output_type": "execute_result"
    }
   ],
   "source": [
    "num_vec_to_keep = 2\n",
    "# Compute the projection matrix based on the top eigen vectors\n",
    "num_features = X.shape[1]\n",
    "proj_mat = eig_pairs[0][1].reshape(num_features,1)\n",
    "for eig_vec_idx in range(1, num_vec_to_keep):\n",
    "  proj_mat = np.hstack((proj_mat, eig_pairs[eig_vec_idx][1].reshape(num_features,1)))\n",
    "proj_mat"
   ]
  },
  {
   "cell_type": "code",
   "execution_count": 46,
   "metadata": {},
   "outputs": [
    {
     "name": "stdout",
     "output_type": "stream",
     "text": [
      "[[ 2.54632517  0.93698904]\n",
      " [-1.97659703  0.21277546]\n",
      " [ 0.04881661 -0.04306428]\n",
      " ...\n",
      " [-0.10051112  0.41227183]\n",
      " [ 2.03409642  0.24167712]\n",
      " [ 2.86008393  0.7149131 ]]\n"
     ]
    }
   ],
   "source": [
    "# Project the data \n",
    "pca_data = X.dot(proj_mat)\n",
    "print pca_data"
   ]
  }
 ],
 "metadata": {
  "kernelspec": {
   "display_name": "Python 2",
   "language": "python",
   "name": "python2"
  },
  "language_info": {
   "codemirror_mode": {
    "name": "ipython",
    "version": 2
   },
   "file_extension": ".py",
   "mimetype": "text/x-python",
   "name": "python",
   "nbconvert_exporter": "python",
   "pygments_lexer": "ipython2",
   "version": "2.7.15"
  }
 },
 "nbformat": 4,
 "nbformat_minor": 2
}
