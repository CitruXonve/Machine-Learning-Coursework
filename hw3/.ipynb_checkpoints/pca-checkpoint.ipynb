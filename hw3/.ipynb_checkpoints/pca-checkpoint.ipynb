{
 "cells": [
  {
   "cell_type": "markdown",
   "metadata": {},
   "source": [
    "# INF 552 Assignment 3 -- PCA && Fastmap dimensionality reduction\n",
    "\n",
    "Author: Zongdi Xu, Wenkai Xu\n",
    "\n",
    "Date: Feb 28, 2019\n",
    "\n",
    "## Part 1\n",
    "### (1) PCA Implementation"
   ]
  },
  {
   "cell_type": "code",
   "execution_count": 1,
   "metadata": {},
   "outputs": [],
   "source": [
    "import numpy as np\n",
    "\n",
    "# Read data from file\n",
    "input_f = open('pca-data.txt', 'r')\n",
    "data = input_f.readlines()\n",
    "x = []\n",
    "for record in data:\n",
    "    x.append(record.split())\n",
    "x = np.array(x).astype(np.float)"
   ]
  },
  {
   "cell_type": "code",
   "execution_count": 2,
   "metadata": {},
   "outputs": [
    {
     "data": {
      "text/plain": [
       "array([ 0.04641608, -0.0356265 ,  0.06334316])"
      ]
     },
     "execution_count": 2,
     "metadata": {},
     "output_type": "execute_result"
    }
   ],
   "source": [
    "# Get the mean of input data in every dimension\n",
    "n, dimension = x.shape\n",
    "n=x.shape[0]\n",
    "mean=np.sum(x,axis=0)/n\n",
    "mean"
   ]
  },
  {
   "cell_type": "code",
   "execution_count": 3,
   "metadata": {},
   "outputs": [
    {
     "name": "stdout",
     "output_type": "stream",
     "text": [
      "NumPy covariance matrix: \n",
      "[[ 81.24199811 -15.84081415  31.66840483]\n",
      " [-15.84081415  13.70181418 -15.26445036]\n",
      " [ 31.66840483 -15.26445036  31.36677137]]\n"
     ]
    }
   ],
   "source": [
    "# Step 1&2: get the covariance matrix\n",
    "cov_mat = (x - mean).T.dot((x - mean))/(n-1)\n",
    "print('NumPy covariance matrix: \\n%s' %cov_mat)"
   ]
  },
  {
   "cell_type": "code",
   "execution_count": 4,
   "metadata": {},
   "outputs": [
    {
     "name": "stdout",
     "output_type": "stream",
     "text": [
      "Eigenvectors \n",
      "[[ 0.86667137 -0.4962773  -0.0508879 ]\n",
      " [-0.23276482 -0.4924792   0.83862076]\n",
      " [ 0.44124968  0.71496368  0.54233352]]\n",
      "\n",
      "Eigenvalues \n",
      "[101.61980038  19.89921519   4.79156808]\n"
     ]
    }
   ],
   "source": [
    "# Step 3: calculate eigenvalues and eigenvectors\n",
    "eig_vals, eig_vecs = np.linalg.eig(cov_mat)\n",
    "\n",
    "print('Eigenvectors \\n%s' %eig_vecs)\n",
    "print('\\nEigenvalues \\n%s' %eig_vals)"
   ]
  },
  {
   "cell_type": "code",
   "execution_count": 5,
   "metadata": {},
   "outputs": [
    {
     "name": "stdout",
     "output_type": "stream",
     "text": [
      "Eigenvalues in descending order:\n"
     ]
    },
    {
     "data": {
      "text/plain": [
       "[(101.61980038291973, array([ 0.86667137, -0.23276482,  0.44124968])),\n",
       " (19.899215194176584, array([-0.4962773 , -0.4924792 ,  0.71496368])),\n",
       " (4.791568080870482, array([-0.0508879 ,  0.83862076,  0.54233352]))]"
      ]
     },
     "execution_count": 5,
     "metadata": {},
     "output_type": "execute_result"
    }
   ],
   "source": [
    "# Make a list of (eigenvalue, eigenvector) tuples\n",
    "eig_pairs = [(np.abs(eig_vals[i]), eig_vecs[:,i]) for i in range(len(eig_vals))]\n",
    "\n",
    "# Sort the (eigenvalue, eigenvector) tuples from high to low\n",
    "eig_pairs.sort()\n",
    "eig_pairs.reverse()\n",
    "\n",
    "# Visually confirm that the list is correctly sorted by decreasing eigenvalues\n",
    "print('Eigenvalues in descending order:')\n",
    "eig_pairs"
   ]
  },
  {
   "cell_type": "markdown",
   "metadata": {},
   "source": [
    "In this case, the eigenvalues of the 1st and 2nd dimensions are the greatest, so these dimensions will be preserved after reduction."
   ]
  },
  {
   "cell_type": "code",
   "execution_count": 6,
   "metadata": {},
   "outputs": [
    {
     "name": "stdout",
     "output_type": "stream",
     "text": [
      "[[ 0.86667137 -0.23276482  0.44124968]\n",
      " [-0.4962773  -0.4924792   0.71496368]]\n"
     ]
    }
   ],
   "source": [
    "# Step 4: apply projection to input data points\n",
    "U = []\n",
    "target_dimension=2\n",
    "for i in range(target_dimension):\n",
    "    U.append(eig_pairs[i][1])\n",
    "U = np.array(U)\n",
    "print U"
   ]
  },
  {
   "cell_type": "code",
   "execution_count": 7,
   "metadata": {},
   "outputs": [
    {
     "name": "stdout",
     "output_type": "stream",
     "text": [
      "[[ 10.95314032   7.41375984]\n",
      " [-12.60962969  -4.2089934 ]\n",
      " [  0.50902129   0.30680664]\n",
      " ...\n",
      " [ -2.84606985   2.45894692]\n",
      " [ 11.25964147   4.24329087]\n",
      " [ 14.30637164   5.68389356]]\n"
     ]
    }
   ],
   "source": [
    "result_x = np.dot(x, U.T)\n",
    "print result_x"
   ]
  },
  {
   "cell_type": "markdown",
   "metadata": {},
   "source": [
    "### (2) Fastmap Implementation"
   ]
  },
  {
   "cell_type": "markdown",
   "metadata": {},
   "source": [
    "## Part 2\n",
    "\n",
    "### (1) PCA Software Familiarization"
   ]
  },
  {
   "cell_type": "code",
   "execution_count": 8,
   "metadata": {},
   "outputs": [
    {
     "name": "stdout",
     "output_type": "stream",
     "text": [
      "[[-10.87667009   7.37396173]\n",
      " [ 12.68609992  -4.24879151]\n",
      " [ -0.43255106   0.26700852]\n",
      " ...\n",
      " [  2.92254009   2.41914881]\n",
      " [-11.18317124   4.20349275]\n",
      " [-14.2299014    5.64409544]]\n"
     ]
    }
   ],
   "source": [
    "import numpy as np\n",
    "from sklearn.decomposition import PCA\n",
    "\n",
    "input_f = open('pca-data.txt', 'r')\n",
    "data = input_f.readlines()\n",
    "x = []\n",
    "for record in data:\n",
    "    x.append(record.split())\n",
    "x = np.array(x).astype(np.float)\n",
    "original_x = x.copy()\n",
    "\n",
    "n, dimension = x.shape\n",
    "target_dimension = 2\n",
    "pca = PCA(n_components=target_dimension)\n",
    "print pca.fit_transform(x)"
   ]
  },
  {
   "cell_type": "code",
   "execution_count": null,
   "metadata": {},
   "outputs": [],
   "source": []
  }
 ],
 "metadata": {
  "kernelspec": {
   "display_name": "Python 2",
   "language": "python",
   "name": "python2"
  },
  "language_info": {
   "codemirror_mode": {
    "name": "ipython",
    "version": 2
   },
   "file_extension": ".py",
   "mimetype": "text/x-python",
   "name": "python",
   "nbconvert_exporter": "python",
   "pygments_lexer": "ipython2",
   "version": "2.7.15"
  }
 },
 "nbformat": 4,
 "nbformat_minor": 2
}
