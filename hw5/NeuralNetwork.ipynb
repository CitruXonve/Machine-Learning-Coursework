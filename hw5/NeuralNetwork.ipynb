{
 "cells": [
  {
   "cell_type": "code",
   "execution_count": 7,
   "metadata": {},
   "outputs": [
    {
     "data": {
      "image/png": "[encoded data removed]",
      "text/plain": [
       "<Figure size 432x288 with 1 Axes>"
      ]
     },
     "metadata": {
      "needs_background": "light"
     },
     "output_type": "display_data"
    }
   ],
   "source": [
    "# test pgm reading\n",
    "import re\n",
    "import numpy as np\n",
    "\n",
    "def read_pgm(filename, byteorder='>'):\n",
    "    \"\"\"Return image data from a raw PGM file as numpy array.\n",
    "\n",
    "    Format specification: http://netpbm.sourceforge.net/doc/pgm.html\n",
    "\n",
    "    \"\"\"\n",
    "    with open(filename, 'rb') as f:\n",
    "        buffer = f.read()\n",
    "    try:\n",
    "        header, width, height, maxval = re.search(\n",
    "            b\"(^P5\\s(?:\\s*#.*[\\r\\n])*\"\n",
    "            b\"(\\d+)\\s(?:\\s*#.*[\\r\\n])*\"\n",
    "            b\"(\\d+)\\s(?:\\s*#.*[\\r\\n])*\"\n",
    "            b\"(\\d+)\\s(?:\\s*#.*[\\r\\n]\\s)*)\", buffer).groups()\n",
    "    except AttributeError:\n",
    "        raise ValueError(\"Not a raw PGM file: '%s'\" % filename)\n",
    "    return np.frombuffer(buffer,\n",
    "                            dtype='u1' if int(maxval) < 256 else byteorder+'u2',\n",
    "                            count=int(width)*int(height),\n",
    "                            offset=len(header)\n",
    "                            ).reshape((int(height), int(width)))\n",
    "\n",
    "\n",
    "filename='./gestures/A/A_down_2.pgm'\n",
    "\n",
    "if __name__ == \"__main__\":\n",
    "    from matplotlib import pyplot\n",
    "    image = read_pgm(filename, byteorder='<')\n",
    "#     print type(image), image\n",
    "#     pyplot.imshow(image, pyplot.cm.gray)\n",
    "#     pyplot.show()\n",
    "    \n",
    "    image = image.astype('float32')\n",
    "    image /= np.max(image)\n",
    "#     print image\n",
    "    pyplot.imshow(image, pyplot.cm.gray)\n",
    "    pyplot.show()"
   ]
  },
  {
   "cell_type": "code",
   "execution_count": 8,
   "metadata": {},
   "outputs": [],
   "source": [
    "def __sigmoid(x):\n",
    "    if x>=30.0: \n",
    "        return 1.0\n",
    "    elif x<=-30.0:\n",
    "        return 0.0\n",
    "    else:\n",
    "        return 1.0 / (1.0 + np.exp(-x))\n",
    "\n",
    "def __sigmoid_derivative(x):\n",
    "    return x * (1 - x)\n",
    "\n",
    "def sigmoid(x):\n",
    "    vfunc = np.vectorize(__sigmoid)\n",
    "    return vfunc(x)\n",
    "\n",
    "def sigmoid_derivative(x):\n",
    "    vfunc = np.vectorize(__sigmoid_derivative)\n",
    "    return vfunc(x)\n",
    "\n",
    "class NeuralNetwork:\n",
    "    def __init__(self, input_n, hidden_n, output_n):\n",
    "        self.input_n = input_n + 1\n",
    "        self.hidden_n = hidden_n\n",
    "        self.output_n = output_n\n",
    "        self.input_layer = np.ones((1,self.input_n))\n",
    "        # init weights\n",
    "        self.input_weights=np.random.uniform(-0.01,0.01,(self.input_n,self.hidden_n))\n",
    "        self.output_weights=np.random.uniform(-0.01,0.01,(self.hidden_n,self.output_n))\n",
    "\n",
    "    def predict(self, x_train):\n",
    "        # activate input layer\n",
    "        for j in range(x_train.shape[0]):\n",
    "            self.input_layer[:,j]=x_train[j]\n",
    "        # activate hidden layer\n",
    "        self.hidden_cells=sigmoid(np.dot(self.input_layer,self.input_weights))\n",
    "        # activate output layer\n",
    "        self.output_cells=np.round(sigmoid(np.dot(self.hidden_cells,self.output_weights)))\n",
    "        return self.output_cells\n",
    "\n",
    "    def back_propagate(self, x_train, y_train, learn):\n",
    "        # feed forward\n",
    "        self.predict(x_train)\n",
    "        # get output layer error\n",
    "        output_deltas=y_train-self.output_cells\n",
    "        # get hidden layer error\n",
    "        hidden_deltas=np.dot(output_deltas,self.output_weights.T)*sigmoid_derivative(self.hidden_cells)\n",
    "        # update output weights\n",
    "        delta=np.dot(self.hidden_cells.T,output_deltas)\n",
    "        self.output_weights+=learn*delta\n",
    "        # update input weights\n",
    "        delta=np.dot(self.input_layer.T,hidden_deltas)\n",
    "        self.input_weights+=learn*delta\n",
    "        # get global error\n",
    "        # error=(y_train*self.output_cells)**2/len(y_train)\n",
    "        # return np.sum(error)\n",
    "\n",
    "    def train(self, x_train, y_train, limit=10000, learn=0.05):\n",
    "        for j in range(limit):\n",
    "            for i in range(len(x_train)):\n",
    "                self.back_propagate(x_train[i], y_train[i], learn)\n",
    "            if np.sum(np.abs(y_train-self.test(x_train)))<1.0:\n",
    "                print(\"Converge after \" + str(j) + \" epoch(s).\")\n",
    "                return\n",
    "        print \"After \" + str(j) + \" epoch(s)\"\n",
    "\n",
    "    def test(self, x_test):\n",
    "        y_pred = []\n",
    "        for case in x_test:\n",
    "            y_pred.append([np.squeeze(self.predict(case))])\n",
    "        return np.array(y_pred)"
   ]
  },
  {
   "cell_type": "code",
   "execution_count": 9,
   "metadata": {},
   "outputs": [
    {
     "name": "stdout",
     "output_type": "stream",
     "text": [
      "184 [[1. 1. 1. 1. 1. 0. 0. 0. 0. 0. 0. 0. 0. 0. 0. 0. 0. 0. 0. 0. 0. 1. 1. 1.\n",
      "  0. 0. 0. 0. 0. 0. 0. 0. 0. 1. 1. 0. 0. 0. 0. 0. 0. 1. 1. 0. 0. 0. 0. 0.\n",
      "  0. 0. 0. 0. 0. 1. 1. 1. 0. 0. 0. 0. 0. 0. 0. 0. 1. 1. 1. 1. 0. 0. 0. 0.\n",
      "  0. 0. 0. 0. 0. 1. 1. 1. 1. 0. 0. 0. 0. 0. 0. 0. 0. 0. 1. 1. 1. 1. 0. 0.\n",
      "  0. 0. 0. 0. 0. 0. 0. 0. 1. 1. 1. 1. 0. 0. 0. 0. 0. 0. 0. 0. 1. 1. 1. 1.\n",
      "  0. 0. 0. 0. 0. 0. 0. 0. 0. 0. 1. 1. 1. 0. 0. 0. 0. 0. 0. 0. 0. 0. 0. 0.\n",
      "  0. 0. 1. 1. 1. 1. 1. 0. 0. 0. 0. 0. 0. 0. 0. 0. 0. 0. 0. 1. 1. 1. 1. 1.\n",
      "  1. 0. 0. 0. 0. 0. 0. 0. 0. 0. 0. 0. 0. 0. 0. 0.]]\n"
     ]
    }
   ],
   "source": [
    "# get training data\n",
    "train_filelist = 'downgesture_train.list'\n",
    "x_train=[]\n",
    "y_train=[]\n",
    "with open(train_filelist, 'r') as train_fl:\n",
    "    for train_fn in train_fl.readlines():\n",
    "        \n",
    "        image = read_pgm(train_fn[:-1], byteorder='<')\n",
    "        image = image.astype('float32')\n",
    "        image /= np.max(image)\n",
    "        \n",
    "        x_train.append(np.squeeze(image.reshape(1,-1)))\n",
    "        \n",
    "        y_train.append([0. if re.match(string=train_fn, pattern='.*?down.*?')==None else 1.])\n",
    "        \n",
    "x_train = np.array(x_train)\n",
    "y_train = np.array(y_train)\n",
    "\n",
    "print len(y_train), y_train.T"
   ]
  },
  {
   "cell_type": "code",
   "execution_count": 10,
   "metadata": {},
   "outputs": [
    {
     "name": "stdout",
     "output_type": "stream",
     "text": [
      "83 [[1. 1. 0. 0. 0. 0. 0. 0. 1. 1. 0. 0. 0. 0. 0. 0. 1. 1. 0. 0. 0. 0. 0. 1.\n",
      "  1. 0. 0. 0. 0. 0. 0. 0. 1. 0. 0. 0. 0. 0. 0. 1. 1. 0. 0. 0. 0. 1. 1. 0.\n",
      "  0. 0. 0. 0. 1. 0. 0. 0. 0. 0. 0. 0. 0. 1. 0. 0. 0. 0. 1. 1. 0. 0. 0. 0.\n",
      "  0. 0. 1. 1. 0. 0. 0. 0. 0. 0. 0.]]\n"
     ]
    }
   ],
   "source": [
    "# get testing data\n",
    "test_filelist = 'downgesture_test.list'\n",
    "x_test=[]\n",
    "y_test=[]\n",
    "with open(test_filelist, 'r') as test_fl:\n",
    "    for test_fn in test_fl.readlines():\n",
    "        \n",
    "        image = read_pgm(test_fn[:-1], byteorder='<')\n",
    "        image = image.astype('float32')\n",
    "        image /= np.max(image)\n",
    "        \n",
    "        x_test.append(np.squeeze(image.reshape(1,-1)))\n",
    "        \n",
    "        y_test.append([0. if re.match(string=test_fn, pattern='.*?down.*?')==None else 1.])\n",
    "        \n",
    "x_test = np.array(x_test)\n",
    "y_test = np.array(y_test)\n",
    "print len(y_test), y_test.T"
   ]
  },
  {
   "cell_type": "code",
   "execution_count": 11,
   "metadata": {},
   "outputs": [
    {
     "name": "stdout",
     "output_type": "stream",
     "text": [
      "Converge after 363 epoch(s).\n",
      "Time elapsed during training: 89.043s\n",
      "Training accuracy: 1.0\n"
     ]
    }
   ],
   "source": [
    "from time import time\n",
    "# neural network training\n",
    "NN=NeuralNetwork(x_train.shape[1], 25, y_train.shape[1])  \n",
    "\n",
    "train_start_time = time()\n",
    "NN.train(x_train, y_train,limit=1000, learn=0.1)\n",
    "print 'Time elapsed during training: %.3fs' % (time()-train_start_time)\n",
    "y_pred = np.abs(np.round(NN.test(x_train)))\n",
    "# print y_pred.T\n",
    "print 'Training accuracy:',1.0-np.sum(np.abs(y_pred-y_train))/len(y_pred)"
   ]
  },
  {
   "cell_type": "code",
   "execution_count": 12,
   "metadata": {},
   "outputs": [
    {
     "name": "stdout",
     "output_type": "stream",
     "text": [
      "testing accuracy: 0.8192771084337349\n"
     ]
    }
   ],
   "source": [
    "# neural network testing\n",
    "y_pred = np.abs(np.round(NN.test(x_test)))\n",
    "# print y_pred.T\n",
    "print 'testing accuracy:',1.0-np.sum(np.abs(y_pred-y_test))/len(y_pred)"
   ]
  },
  {
   "cell_type": "code",
   "execution_count": null,
   "metadata": {},
   "outputs": [],
   "source": []
  }
 ],
 "metadata": {
  "kernelspec": {
   "display_name": "Python 2",
   "language": "python",
   "name": "python2"
  },
  "language_info": {
   "codemirror_mode": {
    "name": "ipython",
    "version": 2
   },
   "file_extension": ".py",
   "mimetype": "text/x-python",
   "name": "python",
   "nbconvert_exporter": "python",
   "pygments_lexer": "ipython2",
   "version": "2.7.16"
  }
 },
 "nbformat": 4,
 "nbformat_minor": 2
}
