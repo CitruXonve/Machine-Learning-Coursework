{
 "cells": [
  {
   "cell_type": "code",
   "execution_count": 1,
   "metadata": {},
   "outputs": [
    {
     "data": {
      "text/plain": [
       "<Figure size 640x480 with 1 Axes>"
      ]
     },
     "metadata": {},
     "output_type": "display_data"
    }
   ],
   "source": [
    "# test pgm reading\n",
    "import re\n",
    "import numpy as np\n",
    "\n",
    "def read_pgm(filename, byteorder='>'):\n",
    "    \"\"\"Return image data from a raw PGM file as numpy array.\n",
    "\n",
    "    Format specification: http://netpbm.sourceforge.net/doc/pgm.html\n",
    "\n",
    "    \"\"\"\n",
    "    with open(filename, 'rb') as f:\n",
    "        buffer = f.read()\n",
    "    try:\n",
    "        header, width, height, maxval = re.search(\n",
    "            b\"(^P5\\s(?:\\s*#.*[\\r\\n])*\"\n",
    "            b\"(\\d+)\\s(?:\\s*#.*[\\r\\n])*\"\n",
    "            b\"(\\d+)\\s(?:\\s*#.*[\\r\\n])*\"\n",
    "            b\"(\\d+)\\s(?:\\s*#.*[\\r\\n]\\s)*)\", buffer).groups()\n",
    "    except AttributeError:\n",
    "        raise ValueError(\"Not a raw PGM file: '%s'\" % filename)\n",
    "    return np.frombuffer(buffer,\n",
    "                            dtype='u1' if int(maxval) < 256 else byteorder+'u2',\n",
    "                            count=int(width)*int(height),\n",
    "                            offset=len(header)\n",
    "                            ).reshape((int(height), int(width)))\n",
    "\n",
    "\n",
    "filename='./gestures/A/A_down_2.pgm'\n",
    "\n",
    "if __name__ == \"__main__\":\n",
    "    from matplotlib import pyplot\n",
    "    image = read_pgm(filename, byteorder='<')\n",
    "#     print type(image), image\n",
    "#     pyplot.imshow(image, pyplot.cm.gray)\n",
    "#     pyplot.show()\n",
    "    \n",
    "    image = image.astype('float32')\n",
    "    image /= np.max(image)\n",
    "#     print image\n",
    "    pyplot.imshow(image, pyplot.cm.gray)\n",
    "    pyplot.show()"
   ]
  },
  {
   "cell_type": "code",
   "execution_count": 2,
   "metadata": {},
   "outputs": [],
   "source": [
    "# definition of neural network\n",
    "class SingeHiddenLayer(object):\n",
    "\n",
    "    def __init__(self, X, y, num_hidden):\n",
    "        self.data_x = np.atleast_2d(X)  # 判断输入训练集是否大于等于二维; 把x_train()取下来\n",
    "        # a.flatten()把a放在一维数组中，不写参数默认是“C”，也就是先行后列的方式，也有“F”先列后行的方式； 把 y_train取下来\n",
    "        self.data_y = np.array(y).flatten()\n",
    "        self.num_data = len(self.data_x)  # 训练数据个数\n",
    "        # shape[] 读取矩阵的长度，比如shape[0]就是读取矩阵第一维度的长度 (120行，4列，所以shape[0]==120,shapep[1]==4)\n",
    "        self.num_feature = self.data_x.shape[1]\n",
    "        self.num_hidden = num_hidden  # 隐藏层节点个数\n",
    "\n",
    "        # 随机生产权重（从-1，到1，生成（num_feature行,num_hidden列））\n",
    "        self.w = np.random.uniform(-0.01, 0.01, (self.num_feature, self.num_hidden))\n",
    "\n",
    "        # 随机生成偏置，一个隐藏层节点对应一个偏置\n",
    "        for i in range(self.num_hidden):\n",
    "            b = np.random.uniform(-0.01, 0.01, (1, self.num_hidden))\n",
    "            self.first_b = b\n",
    "\n",
    "        # 生成偏置矩阵，以隐藏层节点个数4为行，样本数120为列\n",
    "        for i in range(self.num_data - 1):\n",
    "            b = np.row_stack((b, self.first_b))  # row_stack 以叠加行的方式填充数组\n",
    "        self.b = b\n",
    "    # 定义sigmoid函数\n",
    "\n",
    "    def sigmoid(self, x):\n",
    "        return 1.0 / (1 + np.exp(-x))\n",
    "\n",
    "    def train(self, x_train, y_train, classes=1):\n",
    "        mul = np.dot(self.data_x, self.w)  # 输入乘以权重\n",
    "        print(self.data_x.shape)\n",
    "        add = mul + self.b  # 加偏置\n",
    "        H = self.sigmoid(add)  # 激活函数\n",
    "\n",
    "        H_ = np.linalg.pinv(H)  # 求广义逆矩阵\n",
    "        # print(type(H_.shape))\n",
    "\n",
    "        # 将只有一列的Label矩阵转换，例如，iris的label中共有三个值，则转换为3列，以行为单位，label值对应位置标记为1，其它位置标记为0\n",
    "        # self.train_y = np.zeros((self.num_data,classes))  #初始化一个120行，3列的全0矩阵\n",
    "        # for i in range(0,self.num_data):\n",
    "        # self.train_y[i,y_train[i]] = 1   #对应位置标记为1\n",
    "        self.train_y = y_train\n",
    "\n",
    "        self.out_w = np.dot(H_, self.train_y)  # 求输出权重\n",
    "\n",
    "    def predict(self, x_test):\n",
    "        self.t_data = np.atleast_2d(x_test)  # 测试数据集\n",
    "        self.num_tdata = len(self.t_data)  # 测试集的样本数\n",
    "        self.pred_Y = np.zeros((x_test.shape[0]))  # 初始化\n",
    "\n",
    "        b = self.first_b\n",
    "\n",
    "        # 扩充偏置矩阵，以隐藏层节点个数4为行，样本数30为列\n",
    "        for i in range(self.num_tdata - 1):\n",
    "            b = np.row_stack((b, self.first_b))  # 以叠加行的方式填充数组\n",
    "\n",
    "         # 预测\n",
    "        self.pred_Y = np.dot(self.sigmoid(\n",
    "            np.dot(self.t_data, self.w) + b), self.out_w)\n",
    "\n",
    "        return(self.pred_Y)\n",
    "\n",
    "        # self.output=np.sum(self.pred_Y)\n",
    "\n",
    "        # #取输出节点中值最大的类别作为预测值\n",
    "        # self.predy = []\n",
    "        # for i in self.pred_Y:\n",
    "        #     L = i.tolist()\n",
    "        #     self.predy.append(L.index(max(L)))"
   ]
  },
  {
   "cell_type": "code",
   "execution_count": 3,
   "metadata": {},
   "outputs": [
    {
     "name": "stdout",
     "output_type": "stream",
     "text": [
      "184 [[1. 1. 1. 1. 1. 0. 0. 0. 0. 0. 0. 0. 0. 0. 0. 0. 0. 0. 0. 0. 0. 1. 1. 1.\n",
      "  0. 0. 0. 0. 0. 0. 0. 0. 0. 1. 1. 0. 0. 0. 0. 0. 0. 1. 1. 0. 0. 0. 0. 0.\n",
      "  0. 0. 0. 0. 0. 1. 1. 1. 0. 0. 0. 0. 0. 0. 0. 0. 1. 1. 1. 1. 0. 0. 0. 0.\n",
      "  0. 0. 0. 0. 0. 1. 1. 1. 1. 0. 0. 0. 0. 0. 0. 0. 0. 0. 1. 1. 1. 1. 0. 0.\n",
      "  0. 0. 0. 0. 0. 0. 0. 0. 1. 1. 1. 1. 0. 0. 0. 0. 0. 0. 0. 0. 1. 1. 1. 1.\n",
      "  0. 0. 0. 0. 0. 0. 0. 0. 0. 0. 1. 1. 1. 0. 0. 0. 0. 0. 0. 0. 0. 0. 0. 0.\n",
      "  0. 0. 1. 1. 1. 1. 1. 0. 0. 0. 0. 0. 0. 0. 0. 0. 0. 0. 0. 1. 1. 1. 1. 1.\n",
      "  1. 0. 0. 0. 0. 0. 0. 0. 0. 0. 0. 0. 0. 0. 0. 0.]]\n"
     ]
    }
   ],
   "source": [
    "# get training data\n",
    "train_filelist = 'downgesture_train.list'\n",
    "x_train=[]\n",
    "y_train=[]\n",
    "with open(train_filelist, 'r') as train_fl:\n",
    "    for train_fn in train_fl.readlines():\n",
    "        \n",
    "        image = read_pgm(train_fn[:-1], byteorder='<')\n",
    "        image = image.astype('float32')\n",
    "        image /= np.max(image)\n",
    "        \n",
    "        x_train.append(np.squeeze(image.reshape(1,-1)))\n",
    "        \n",
    "        y_train.append([0. if re.match(string=train_fn, pattern='.*?down.*?')==None else 1.])\n",
    "        \n",
    "x_train = np.array(x_train)\n",
    "y_train = np.array(y_train)\n",
    "print len(y_train), y_train.T\n",
    "# print len(x_train), x_train"
   ]
  },
  {
   "cell_type": "code",
   "execution_count": 4,
   "metadata": {},
   "outputs": [
    {
     "name": "stdout",
     "output_type": "stream",
     "text": [
      "83 [[1. 1. 0. 0. 0. 0. 0. 0. 1. 1. 0. 0. 0. 0. 0. 0. 1. 1. 0. 0. 0. 0. 0. 1.\n",
      "  1. 0. 0. 0. 0. 0. 0. 0. 1. 0. 0. 0. 0. 0. 0. 1. 1. 0. 0. 0. 0. 1. 1. 0.\n",
      "  0. 0. 0. 0. 1. 0. 0. 0. 0. 0. 0. 0. 0. 1. 0. 0. 0. 0. 1. 1. 0. 0. 0. 0.\n",
      "  0. 0. 1. 1. 0. 0. 0. 0. 0. 0. 0.]]\n"
     ]
    }
   ],
   "source": [
    "# get testing data\n",
    "test_filelist = 'downgesture_test.list'\n",
    "x_test=[]\n",
    "y_test=[]\n",
    "with open(test_filelist, 'r') as test_fl:\n",
    "    for test_fn in test_fl.readlines():\n",
    "        \n",
    "        image = read_pgm(test_fn[:-1], byteorder='<')\n",
    "        image = image.astype('float32')\n",
    "        image /= np.max(image)\n",
    "        \n",
    "        x_test.append(np.squeeze(image.reshape(1,-1)))\n",
    "        \n",
    "        y_test.append([0. if re.match(string=test_fn, pattern='.*?down.*?')==None else 1.])\n",
    "        \n",
    "x_test = np.array(x_test)\n",
    "y_test = np.array(y_test)\n",
    "print len(y_test), y_test.T"
   ]
  },
  {
   "cell_type": "code",
   "execution_count": 5,
   "metadata": {},
   "outputs": [
    {
     "name": "stdout",
     "output_type": "stream",
     "text": [
      "(184, 960)\n",
      "training accuracy: 1.0\n"
     ]
    }
   ],
   "source": [
    "# neural network training\n",
    "NN = SingeHiddenLayer(x_train, y_train, 500)  # 训练数据集，隐藏层节点个数\n",
    "NN.train(x_train, y_train)\n",
    "y_pred = np.abs(np.round(NN.predict(x_train)))\n",
    "print 'training accuracy:',1.0-np.sum(np.abs(y_pred-y_train))/len(y_pred)"
   ]
  },
  {
   "cell_type": "code",
   "execution_count": 6,
   "metadata": {},
   "outputs": [
    {
     "name": "stdout",
     "output_type": "stream",
     "text": [
      "[[1. 1. 0. 0. 1. 0. 0. 0. 0. 1. 1. 1. 0. 0. 0. 0. 1. 2. 0. 0. 1. 0. 0. 1.\n",
      "  0. 1. 1. 0. 0. 0. 0. 0. 0. 0. 1. 0. 0. 1. 0. 0. 1. 0. 0. 0. 0. 1. 0. 1.\n",
      "  1. 0. 1. 0. 1. 0. 0. 0. 0. 0. 0. 1. 0. 1. 0. 0. 0. 0. 1. 0. 0. 0. 0. 0.\n",
      "  0. 0. 1. 1. 0. 0. 1. 0. 0. 0. 0.]]\n",
      "testing accuracy: 0.7590361445783133\n"
     ]
    }
   ],
   "source": [
    "# neural network testing\n",
    "y_pred = np.abs(np.round(NN.predict(x_test)))\n",
    "print y_pred.T\n",
    "print 'testing accuracy:',1.0-np.sum(np.abs(y_pred-y_test))/len(y_pred)"
   ]
  },
  {
   "cell_type": "code",
   "execution_count": null,
   "metadata": {},
   "outputs": [],
   "source": []
  }
 ],
 "metadata": {
  "kernelspec": {
   "display_name": "Python 2",
   "language": "python",
   "name": "python2"
  },
  "language_info": {
   "codemirror_mode": {
    "name": "ipython",
    "version": 2
   },
   "file_extension": ".py",
   "mimetype": "text/x-python",
   "name": "python",
   "nbconvert_exporter": "python",
   "pygments_lexer": "ipython2",
   "version": "2.7.16"
  }
 },
 "nbformat": 4,
 "nbformat_minor": 2
}
