{
 "cells": [
  {
   "cell_type": "code",
   "execution_count": 9,
   "metadata": {},
   "outputs": [
    {
     "data": {
      "text/plain": [
       "(array([[0.750072  , 0.97740794, 0.88565752, 1.        ],\n",
       "        [0.87791369, 0.01925101, 0.50671112, 1.        ],\n",
       "        [0.7773246 , 0.99406596, 0.82224385, 1.        ],\n",
       "        ...,\n",
       "        [0.5155064 , 0.15354364, 0.01275495, 1.        ],\n",
       "        [0.2282263 , 0.97155357, 0.18305906, 1.        ],\n",
       "        [0.36391513, 0.49207061, 0.71952659, 1.        ]]), array([[ 1.],\n",
       "        [-1.],\n",
       "        [ 1.],\n",
       "        ...,\n",
       "        [ 1.],\n",
       "        [ 1.],\n",
       "        [ 1.]]))"
      ]
     },
     "execution_count": 9,
     "metadata": {},
     "output_type": "execute_result"
    }
   ],
   "source": [
    "import numpy as np\n",
    "\n",
    "def read_data(filename):\n",
    "    input_f=open(filename, 'r')\n",
    "    input_data=[]\n",
    "    for line in input_f.readlines():\n",
    "        input_data.append([float(val) for val in line.split(',')])\n",
    "    input_data=np.array(input_data)\n",
    "    train_x=input_data[:,:-2]\n",
    "    train_y=input_data[:,-1:]\n",
    "    train_x=np.concatenate((train_x, np.ones((train_x.shape[0],1))),axis=1)\n",
    "    n, dimension = train_x.shape\n",
    "    return n, dimension, train_x, train_y\n",
    "    \n",
    "n, dimension, train_x, train_y = read_data('classification.txt')\n",
    "train_x, train_y"
   ]
  },
  {
   "cell_type": "code",
   "execution_count": 10,
   "metadata": {},
   "outputs": [],
   "source": [
    "def activation(val):\n",
    "    return 1.0 if val > 0.0 else -1.0\n",
    "\n",
    "def predict(n, train_x, train_y, W):\n",
    "    output=[activation(np.sum(train_x[i,:]*W[i,:])*train_y[i,:]) for i in range(n)]\n",
    "    return np.array(output).reshape(-1,1)"
   ]
  },
  {
   "cell_type": "code",
   "execution_count": 12,
   "metadata": {},
   "outputs": [
    {
     "name": "stdout",
     "output_type": "stream",
     "text": [
      "Epoch #1: accuracy_rate=1.20%\n",
      "Epoch #2: accuracy_rate=100.00%\n",
      "Weight matrix = [[1.50014400e-05 1.95481589e-05 1.77131504e-05 2.00000000e-05]\n",
      " [1.50014400e-05 1.95481589e-05 1.77131504e-05 2.00000000e-05]\n",
      " [3.05479320e-05 3.94294781e-05 3.41580273e-05 4.00000000e-05]\n",
      " ...\n",
      " [9.62667297e-03 9.99019540e-03 9.84161862e-03 1.97200000e-02]\n",
      " [9.63123750e-03 1.00096265e-02 9.84527981e-03 1.97400000e-02]\n",
      " [9.63851580e-03 1.00194679e-02 9.85967034e-03 1.97600000e-02]]\n",
      "Accuracy rate=100.00%\n"
     ]
    }
   ],
   "source": [
    "def perceptron(n, dimension, train_x, train_y, max_epoch, learning_rate):\n",
    "    weight=np.zeros((n,dimension))\n",
    "\n",
    "    for epoch in range(max_epoch):\n",
    "        error=predict(n, train_x, train_y, weight)-train_y\n",
    "        \n",
    "        accuracy = 100.0-100.0*np.sum(np.abs(error))/n\n",
    "\n",
    "        for i in range(n):\n",
    "            weight[i:]-=error[i]*learning_rate*train_x[i,:]*train_y[i]\n",
    "\n",
    "        print 'Epoch #%d: accuracy_rate=%.2f%%'%(epoch+1,accuracy)\n",
    "\n",
    "        if np.sum(error**2)<1.0:\n",
    "            break\n",
    "            \n",
    "    return weight, accuracy\n",
    "\n",
    "weight, accuracy = perceptron(n, dimension, train_x, train_y, max_epoch=7000, learning_rate=1e-5)\n",
    "print 'Weight matrix =', weight\n",
    "print 'Accuracy rate=%.2f%%' % accuracy"
   ]
  },
  {
   "cell_type": "code",
   "execution_count": null,
   "metadata": {},
   "outputs": [],
   "source": []
  }
 ],
 "metadata": {
  "kernelspec": {
   "display_name": "Python 2",
   "language": "python",
   "name": "python2"
  },
  "language_info": {
   "codemirror_mode": {
    "name": "ipython",
    "version": 2
   },
   "file_extension": ".py",
   "mimetype": "text/x-python",
   "name": "python",
   "nbconvert_exporter": "python",
   "pygments_lexer": "ipython2",
   "version": "2.7.16"
  }
 },
 "nbformat": 4,
 "nbformat_minor": 2
}
