{
 "cells": [
  {
   "cell_type": "code",
   "execution_count": 1,
   "metadata": {},
   "outputs": [],
   "source": [
    "import numpy as np\n",
    "\n",
    "def read_data(filename):\n",
    "    input_f=open(filename, 'r')\n",
    "    input_data=[]\n",
    "    for line in input_f.readlines():\n",
    "        input_data.append([float(val) for val in line.split(',')[:-1]])\n",
    "    input_data=np.array(input_data)\n",
    "    train_x=input_data[:,:-1]\n",
    "    train_y=input_data[:,-1:]\n",
    "    train_x=np.concatenate((train_x, np.ones((train_x.shape[0],1))),axis=1)\n",
    "    n, dimension = train_x.shape\n",
    "    return n, dimension, train_x, train_y\n",
    "    \n",
    "n, dimension, train_x, train_y = read_data('classification.txt')"
   ]
  },
  {
   "cell_type": "code",
   "execution_count": 2,
   "metadata": {},
   "outputs": [],
   "source": [
    "def activation(val):\n",
    "    return 1.0 if val > 0.0 else -1.0\n",
    "\n",
    "def predict(n, train_x, train_y, W):\n",
    "    output=[activation(np.sum(train_x[i,:]*W)*train_y[i,:]) for i in range(n)]\n",
    "    return np.array(output).reshape(-1,1)"
   ]
  },
  {
   "cell_type": "code",
   "execution_count": 3,
   "metadata": {},
   "outputs": [
    {
     "name": "stdout",
     "output_type": "stream",
     "text": [
      "Weight matrix = [[0.95456624 0.42006829 0.46490911 1.29      ]]\n",
      "Accuracy rate=100.00%\n"
     ]
    }
   ],
   "source": [
    "def get_accuracy(error):\n",
    "    return 100.0-100.0*np.sum([1.0 if np.sum(np.abs(x))>0.0 else 0.0 for x in error])/error.shape[0]\n",
    "\n",
    "def perceptron(n, dimension, train_x, train_y, max_epoch, learning_rate):\n",
    "    weight=np.zeros((1,dimension))\n",
    "\n",
    "    for epoch in range(max_epoch):\n",
    "        error=predict(n, train_x, train_y, weight)-train_y\n",
    "        \n",
    "        accuracy = get_accuracy(error)\n",
    "        \n",
    "        delta = error*learning_rate*train_x\n",
    "        for i in range(n):\n",
    "            weight-=np.array([delta[i,:]*train_y[i,:]])\n",
    "\n",
    "#         print 'Epoch #%d: accuracy_rate=%.2f%%'%(epoch+1,accuracy)\n",
    "\n",
    "        if np.sum(error**2)<1.0:\n",
    "            break\n",
    "            \n",
    "    return weight, accuracy, error\n",
    "\n",
    "weight, accuracy, error = perceptron(n, dimension, train_x, train_y, max_epoch=100, learning_rate=1e-3)\n",
    "print 'Weight matrix =', weight\n",
    "print 'Accuracy rate=%.2f%%' % accuracy"
   ]
  },
  {
   "cell_type": "code",
   "execution_count": null,
   "metadata": {},
   "outputs": [],
   "source": []
  }
 ],
 "metadata": {
  "kernelspec": {
   "display_name": "Python 2",
   "language": "python",
   "name": "python2"
  },
  "language_info": {
   "codemirror_mode": {
    "name": "ipython",
    "version": 2
   },
   "file_extension": ".py",
   "mimetype": "text/x-python",
   "name": "python",
   "nbconvert_exporter": "python",
   "pygments_lexer": "ipython2",
   "version": "2.7.16"
  }
 },
 "nbformat": 4,
 "nbformat_minor": 2
}
