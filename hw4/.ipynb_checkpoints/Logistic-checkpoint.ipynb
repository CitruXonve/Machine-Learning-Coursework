{
 "cells": [
  {
   "cell_type": "code",
   "execution_count": 1,
   "metadata": {},
   "outputs": [
    {
     "data": {
      "text/plain": [
       "(array([[0.750072  , 0.97740794, 0.88565752, 1.        ],\n",
       "        [0.87791369, 0.01925101, 0.50671112, 1.        ],\n",
       "        [0.7773246 , 0.99406596, 0.82224385, 1.        ],\n",
       "        ...,\n",
       "        [0.5155064 , 0.15354364, 0.01275495, 1.        ],\n",
       "        [0.2282263 , 0.97155357, 0.18305906, 1.        ],\n",
       "        [0.36391513, 0.49207061, 0.71952659, 1.        ]]), array([[-1.],\n",
       "        [ 1.],\n",
       "        [-1.],\n",
       "        ...,\n",
       "        [ 1.],\n",
       "        [-1.],\n",
       "        [-1.]]))"
      ]
     },
     "execution_count": 1,
     "metadata": {},
     "output_type": "execute_result"
    }
   ],
   "source": [
    "import numpy as np\n",
    "\n",
    "def read_data(filename):\n",
    "    input_f=open(filename, 'r')\n",
    "    input_data=[]\n",
    "    for line in input_f.readlines():\n",
    "        input_data.append([float(val) for val in line.split(',')])\n",
    "    input_data=np.array(input_data)\n",
    "    train_x=input_data[:,:-2]\n",
    "    train_y=input_data[:,-2:-1]\n",
    "    train_x=np.concatenate((train_x, np.ones((train_x.shape[0],1))),axis=1)\n",
    "    n, dimension = train_x.shape\n",
    "    return n, dimension, train_x, train_y\n",
    "    \n",
    "n, dimension, train_x, train_y = read_data('classification.txt')\n",
    "train_x, train_y"
   ]
  },
  {
   "cell_type": "code",
   "execution_count": 2,
   "metadata": {},
   "outputs": [],
   "source": [
    "def activation(val):\n",
    "    if val>20:\n",
    "        return 1.0\n",
    "    if val<-1000:\n",
    "        return 0.0\n",
    "    return np.exp(val)/(1.0+np.exp(val))\n",
    "\n",
    "\n",
    "def predict(n, train_x, train_y, W):\n",
    "    output=[activation(np.sum(train_x[i,:]*W)*train_y[i,:]) for i in range(n)]\n",
    "    return np.array(output).reshape(-1,1)\n",
    "\n",
    "def get_accuracy(error):\n",
    "    return 100.0-100.0*np.sum([1.0 if np.sum(np.abs(x))>0.0 else 0.0 for x in error])/error.shape[0]\n",
    "\n",
    "def logistic(n, dimension, train_x, train_y, max_epoch, learning_rate):\n",
    "    weight=np.zeros((1,dimension))\n",
    "    error=predict(n, train_x, train_y, weight)\n",
    "\n",
    "    for epoch in range(max_epoch):\n",
    "        \n",
    "        last_error = error[:]\n",
    "        error=predict(n, train_x, train_y, weight)-train_y\n",
    "        \n",
    "        accuracy = get_accuracy(error)\n",
    "        \n",
    "        delta = error*learning_rate*train_x\n",
    "        for i in range(n):\n",
    "            weight=weight-np.array([delta[i,:]*train_y[i,:]])\n",
    "\n",
    "#         print 'Epoch #%d: accuracy_rate=%.2f%%'%(epoch+1,accuracy)\n",
    "\n",
    "        if np.sum(error**2)<1.0 or np.sum(np.abs(last_error - error))<1e-9:\n",
    "            break\n",
    "            \n",
    "    return weight, accuracy, error\n",
    "\n",
    "weight, accuracy, error = logistic(n, dimension, train_x, train_y, max_epoch=7000, learning_rate=1e-3)\n",
    "print 'Weight matrix =', weight\n",
    "print 'Accuracy rate=%.2f%%' % accuracy"
   ]
  },
  {
   "cell_type": "code",
   "execution_count": null,
   "metadata": {},
   "outputs": [],
   "source": []
  }
 ],
 "metadata": {
  "kernelspec": {
   "display_name": "Python 2",
   "language": "python",
   "name": "python2"
  },
  "language_info": {
   "codemirror_mode": {
    "name": "ipython",
    "version": 2
   },
   "file_extension": ".py",
   "mimetype": "text/x-python",
   "name": "python",
   "nbconvert_exporter": "python",
   "pygments_lexer": "ipython2",
   "version": "2.7.16"
  }
 },
 "nbformat": 4,
 "nbformat_minor": 2
}
