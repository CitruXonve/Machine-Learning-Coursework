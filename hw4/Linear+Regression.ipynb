{
 "cells": [
  {
   "cell_type": "code",
   "execution_count": 1,
   "metadata": {},
   "outputs": [],
   "source": [
    "import numpy as np\n",
    "import pandas as pd"
   ]
  },
  {
   "cell_type": "code",
   "execution_count": 2,
   "metadata": {
    "scrolled": true
   },
   "outputs": [
    {
     "name": "stdout",
     "output_type": "stream",
     "text": [
      "(3000, 3)\n"
     ]
    },
    {
     "data": {
      "text/html": [
       "<div>\n",
       "<style scoped>\n",
       "    .dataframe tbody tr th:only-of-type {\n",
       "        vertical-align: middle;\n",
       "    }\n",
       "\n",
       "    .dataframe tbody tr th {\n",
       "        vertical-align: top;\n",
       "    }\n",
       "\n",
       "    .dataframe thead th {\n",
       "        text-align: right;\n",
       "    }\n",
       "</style>\n",
       "<table border=\"1\" class=\"dataframe\">\n",
       "  <thead>\n",
       "    <tr style=\"text-align: right;\">\n",
       "      <th></th>\n",
       "      <th>X</th>\n",
       "      <th>Y</th>\n",
       "      <th>Z</th>\n",
       "    </tr>\n",
       "  </thead>\n",
       "  <tbody>\n",
       "    <tr>\n",
       "      <th>0</th>\n",
       "      <td>0.693781</td>\n",
       "      <td>0.697544</td>\n",
       "      <td>3.252290</td>\n",
       "    </tr>\n",
       "    <tr>\n",
       "      <th>1</th>\n",
       "      <td>0.693737</td>\n",
       "      <td>0.575576</td>\n",
       "      <td>2.898651</td>\n",
       "    </tr>\n",
       "    <tr>\n",
       "      <th>2</th>\n",
       "      <td>0.000576</td>\n",
       "      <td>0.458192</td>\n",
       "      <td>1.986979</td>\n",
       "    </tr>\n",
       "    <tr>\n",
       "      <th>3</th>\n",
       "      <td>0.194953</td>\n",
       "      <td>0.470199</td>\n",
       "      <td>2.272075</td>\n",
       "    </tr>\n",
       "    <tr>\n",
       "      <th>4</th>\n",
       "      <td>0.031775</td>\n",
       "      <td>0.026546</td>\n",
       "      <td>0.231178</td>\n",
       "    </tr>\n",
       "  </tbody>\n",
       "</table>\n",
       "</div>"
      ],
      "text/plain": [
       "          X         Y         Z\n",
       "0  0.693781  0.697544  3.252290\n",
       "1  0.693737  0.575576  2.898651\n",
       "2  0.000576  0.458192  1.986979\n",
       "3  0.194953  0.470199  2.272075\n",
       "4  0.031775  0.026546  0.231178"
      ]
     },
     "execution_count": 2,
     "metadata": {},
     "output_type": "execute_result"
    }
   ],
   "source": [
    "data = pd.read_csv('linear-regression.txt',names=[\"X\",\"Y\",\"Z\"])      \n",
    "print(data.shape)\n",
    "data.head()"
   ]
  },
  {
   "cell_type": "code",
   "execution_count": 3,
   "metadata": {},
   "outputs": [],
   "source": [
    "X = data['X'].values\n",
    "Y = data['Y'].values\n",
    "Z = data['Z'].values\n",
    "# X and Y are the independent variables and Z is the dependent variable \n",
    "# Z=a0+a1X+a2Y"
   ]
  },
  {
   "cell_type": "code",
   "execution_count": 4,
   "metadata": {},
   "outputs": [
    {
     "data": {
      "text/plain": [
       "array([[1.00000000e+00, 6.93780796e-01, 6.97543511e-01],\n",
       "       [1.00000000e+00, 6.93737070e-01, 5.75575902e-01],\n",
       "       [1.00000000e+00, 5.75595955e-04, 4.58192235e-01],\n",
       "       ...,\n",
       "       [1.00000000e+00, 1.53260958e-01, 4.28193331e-01],\n",
       "       [1.00000000e+00, 6.04550350e-01, 8.62078270e-01],\n",
       "       [1.00000000e+00, 2.12577119e-01, 1.15651970e-01]])"
      ]
     },
     "execution_count": 4,
     "metadata": {},
     "output_type": "execute_result"
    }
   ],
   "source": [
    "# In this implementation, I use gradient descent algorithm:\n",
    "# The cost function J(a0,a1,a2) is computed and I update the coefficient a0,a1,a2 based \n",
    "# on the partial derivative of cost function J every iteration. The updating equation is:\n",
    "# C=c - learning rate* d/dax(J).\n",
    "# I predefine the learning rate as 0.001 and set iteration 7000 times.\n",
    "\n",
    "l = len(X)\n",
    "X0 = np.array([np.ones(l), X, Y]).T     # Here I put the first column as all \"1\"s because the a0 is the intercept, there is no corresponding x\n",
    "Coefficient = np.array([0, 0, 0])       # Here are the coefficients. There are 3 entries: the 1st is intercept, the 2nd is X's coefficient and 3rd is Y's coefficient\n",
    "# Coefficient = np.zeros((1,3))\n",
    "Y0 = np.array(Z)                        # Actual value of Z\n",
    "X0"
   ]
  },
  {
   "cell_type": "code",
   "execution_count": 5,
   "metadata": {},
   "outputs": [],
   "source": [
    "## Here is the cost function:\n",
    "#  J=sigma(h0(xi)-yi)^2/2m\n",
    "## The gradient is the partial derivative of J: gradient= sigma(h0(xi)-yi)*xi\n",
    "## Then we update the coefficient every iteration.\n",
    "def gradient_descent(X, Y, C, learning_rate, iterations):\n",
    "    l = len(Y)    \n",
    "    for iteration in range(iterations):\n",
    "        H = X.dot(C)  # H is the hypothesis value (X bar) \n",
    "        delta_x = H - Y # delta_x is the difference between hypothesis value and actural value of Z       \n",
    "        gradient = X.T.dot(delta_x) / l  # Here is the gradient   \n",
    "        C = C - learning_rate * gradient   # We update the coefficient by subtracting learning rate multipled by the partial derivative of cost func\n",
    "    return C, iteration"
   ]
  },
  {
   "cell_type": "code",
   "execution_count": 6,
   "metadata": {},
   "outputs": [
    {
     "name": "stdout",
     "output_type": "stream",
     "text": [
      "Epoch # 6999 [1.20456537 0.76637821 2.04944651]\n"
     ]
    }
   ],
   "source": [
    "\n",
    "\n",
    "# 7000 Iterations with learning rate of 0.001\n",
    "Coefficient, iteration = gradient_descent(X0, Y0, Coefficient, 0.001, 7000)\n",
    "\n",
    "# Intercept a0, Coefficient of X: a1, Coefficient of Y:a2\n",
    "print 'Epoch #',iteration, Coefficient\n",
    "\n"
   ]
  },
  {
   "cell_type": "code",
   "execution_count": null,
   "metadata": {},
   "outputs": [],
   "source": []
  }
 ],
 "metadata": {
  "kernelspec": {
   "display_name": "Python 2",
   "language": "python",
   "name": "python2"
  },
  "language_info": {
   "codemirror_mode": {
    "name": "ipython",
    "version": 2
   },
   "file_extension": ".py",
   "mimetype": "text/x-python",
   "name": "python",
   "nbconvert_exporter": "python",
   "pygments_lexer": "ipython2",
   "version": "2.7.16"
  }
 },
 "nbformat": 4,
 "nbformat_minor": 2
}
