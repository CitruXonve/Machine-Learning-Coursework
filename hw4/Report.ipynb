{
 "cells": [
  {
   "cell_type": "markdown",
   "metadata": {},
   "source": [
    "# INF 552 Assignment 4\n",
    "\n",
    "## Perceptron, Linear & Logistic Regression"
   ]
  },
  {
   "cell_type": "markdown",
   "metadata": {},
   "source": [
    "Author: \n",
    "\n",
    "Zongdi Xu (USC ID 5900-5757-70, working on Percepron, Pocket & Logistic Regression), \n",
    "\n",
    "Wenkai Xu (USC ID 5417-1457-73, working on Linear Regression).\n",
    "\n",
    "Date: Mar 22, 2019\n",
    "\n",
    "\n",
    "## Part 1\n",
    "\n",
    "### 1.1 Perceptron Learning algorithm\n",
    "\n",
    "- Read data from file"
   ]
  },
  {
   "cell_type": "code",
   "execution_count": 1,
   "metadata": {
    "slideshow": {
     "slide_type": "subslide"
    }
   },
   "outputs": [
    {
     "data": {
      "text/plain": [
       "(array([[0.750072  , 0.97740794, 0.88565752, 1.        ],\n",
       "        [0.87791369, 0.01925101, 0.50671112, 1.        ],\n",
       "        [0.7773246 , 0.99406596, 0.82224385, 1.        ],\n",
       "        ...,\n",
       "        [0.5155064 , 0.15354364, 0.01275495, 1.        ],\n",
       "        [0.2282263 , 0.97155357, 0.18305906, 1.        ],\n",
       "        [0.36391513, 0.49207061, 0.71952659, 1.        ]]),\n",
       " array([[-1.,  1., -1., ...,  1., -1., -1.]]))"
      ]
     },
     "execution_count": 1,
     "metadata": {},
     "output_type": "execute_result"
    }
   ],
   "source": [
    "import numpy as np\n",
    "import time\n",
    "\n",
    "def read_data(filename):\n",
    "    input_f=open(filename, 'r')\n",
    "    input_data=[]\n",
    "    for line in input_f.readlines():\n",
    "        input_data.append([float(val) for val in line.split(',')])\n",
    "    input_data=np.array(input_data)\n",
    "    train_x=input_data[:,:-2]\n",
    "    train_y=input_data[:,-2:-1]\n",
    "    train_x=np.concatenate((train_x, np.ones((train_x.shape[0],1))),axis=1)\n",
    "    n, dimension = train_x.shape\n",
    "    return n, dimension, train_x, train_y\n",
    "    \n",
    "n, dimension, train_x, train_y = read_data('classification.txt')\n",
    "train_x, train_y.T"
   ]
  },
  {
   "cell_type": "markdown",
   "metadata": {},
   "source": [
    "- Perceptron training and predicting\n",
    "\n",
    "    For the reason that error can occur when doing floating-point number equality comparison, here we define approximation values of `zero` for further use."
   ]
  },
  {
   "cell_type": "code",
   "execution_count": 2,
   "metadata": {
    "slideshow": {
     "slide_type": "subslide"
    }
   },
   "outputs": [],
   "source": [
    "pos_zero_threshold = 1e-7\n",
    "neg_zero_threshold = -1e-7"
   ]
  },
  {
   "cell_type": "markdown",
   "metadata": {},
   "source": [
    "Use sign function as `activation function` for perceptron."
   ]
  },
  {
   "cell_type": "code",
   "execution_count": 3,
   "metadata": {
    "slideshow": {
     "slide_type": "subslide"
    }
   },
   "outputs": [
    {
     "name": "stdout",
     "output_type": "stream",
     "text": [
      "After 2541 epoch(s), 144.596 s elapsed:\n",
      "Weight matrix = [[-0.000545   -0.00054431 -0.00064126  0.002464  ]]\n",
      "Accuracy rate=1.00\n"
     ]
    }
   ],
   "source": [
    "def activate(val, threshold = neg_zero_threshold):\n",
    "    activation_func = np.vectorize(lambda x: 1.0 if x > threshold else -1.0)\n",
    "    return activation_func(val)\n",
    "\n",
    "def predict(n, train_x, train_y, W):\n",
    "    output=[activate(np.sum(train_x[i,:]*W)*train_y[i,:]) for i in range(n)]\n",
    "    return np.array(output).reshape(-1,1)\n",
    "\n",
    "def get_accuracy(n, hypothesis, train_y):\n",
    "    return (np.abs(hypothesis-train_y)<pos_zero_threshold).sum().astype('float')/n\n",
    "\n",
    "def perceptron(n, dimension, train_x, train_y, max_epoch, learning_rate):\n",
    "    weight=np.ones((1,dimension))*-1.0\n",
    "\n",
    "    for epoch in range(max_epoch):\n",
    "        # feed-forward\n",
    "        hypothesis=predict(n, train_x, train_y, weight)\n",
    "\n",
    "        accuracy = get_accuracy(n, hypothesis, train_y)\n",
    "        \n",
    "        # gradient descent\n",
    "        delta = hypothesis*learning_rate*train_x        \n",
    "        if (np.abs(hypothesis-train_y)<pos_zero_threshold).sum()==n:\n",
    "            break\n",
    "\n",
    "        weight-=np.dot(delta.T,train_y).T\n",
    "\n",
    "    return weight, accuracy, hypothesis, epoch\n",
    "\n",
    "start_time = time.time()\n",
    "weight, accuracy, prediction, epoch = perceptron(n, dimension, train_x, train_y, max_epoch=5000, learning_rate=1e-6)\n",
    "print 'After %d epoch(s), %.3f s elapsed:'% (epoch, time.time()-start_time)\n",
    "print 'Weight matrix =', weight\n",
    "print 'Accuracy rate=%.2f' % accuracy"
   ]
  },
  {
   "cell_type": "markdown",
   "metadata": {},
   "source": [
    "Here comes the prediction output, and we can confirm that the output is exactly the same with expected."
   ]
  },
  {
   "cell_type": "code",
   "execution_count": 5,
   "metadata": {},
   "outputs": [
    {
     "data": {
      "text/plain": [
       "(array([[-1.,  1., -1., ...,  1., -1., -1.]]), 2000)"
      ]
     },
     "execution_count": 5,
     "metadata": {},
     "output_type": "execute_result"
    }
   ],
   "source": [
    "result = predict(n, train_x, train_y, weight)\n",
    "result.T, (result == train_y).sum()"
   ]
  },
  {
   "cell_type": "markdown",
   "metadata": {},
   "source": [
    "- Optimization\n",
    "\n",
    "    Later we came up with a method of optimization. We found that replacing \"for\" iteration with `numpy` dot product can accelerate the training process. It might be due to the internal parellel computing implementation of dot product. It saves much time."
   ]
  },
  {
   "cell_type": "code",
   "execution_count": 6,
   "metadata": {},
   "outputs": [
    {
     "name": "stdout",
     "output_type": "stream",
     "text": [
      "After 2541 epoch(s), 0.859 s elapsed:\n",
      "Weight matrix = [-0.000545   -0.00054431 -0.00064126  0.002464  ]\n",
      "Accuracy rate=1.00\n"
     ]
    }
   ],
   "source": [
    "def predict(n, train_x, train_y, W):\n",
    "    return activate(np.dot(train_x, W.reshape(-1,1))*train_y)\n",
    "\n",
    "def get_accuracy(n, hypothesis, train_y):\n",
    "    return (np.abs(hypothesis-train_y)<pos_zero_threshold).sum().astype('float')/n\n",
    "\n",
    "def perceptron(n, dimension, train_x, train_y, max_epoch, learning_rate):\n",
    "    weight = np.array([-1.0]*dimension)\n",
    "\n",
    "    for epoch in range(max_epoch):\n",
    "        # feed-forward\n",
    "        hypothesis=predict(n, train_x, train_y, weight)\n",
    "\n",
    "        accuracy = get_accuracy(n, hypothesis, train_y)\n",
    "        \n",
    "        delta = hypothesis*learning_rate*train_x\n",
    "\n",
    "        # gradient descent\n",
    "        if (np.abs(hypothesis-train_y)<pos_zero_threshold).sum()==n:\n",
    "            break\n",
    "\n",
    "        weight-=np.squeeze(np.dot(delta.T,train_y).T)\n",
    "\n",
    "    return weight, accuracy, hypothesis, epoch\n",
    "\n",
    "start_time = time.time()\n",
    "weight, accuracy, prediction, epoch = perceptron(n, dimension, train_x, train_y, max_epoch=5000, learning_rate=1e-6)\n",
    "print 'After %d epoch(s), %.3f s elapsed:'% (epoch, time.time()-start_time)\n",
    "print 'Weight matrix =', weight\n",
    "print 'Accuracy rate=%.2f' % accuracy"
   ]
  },
  {
   "cell_type": "markdown",
   "metadata": {},
   "source": [
    "While the result remains the same, much time would be saved in this way."
   ]
  },
  {
   "cell_type": "markdown",
   "metadata": {},
   "source": [
    "### 1.2 Pocket algorithm\n",
    "\n",
    "Compared to Perceptron, the outline of this program remains the same, meanwhile it will keep records of every possible solution that occurs in every iteration."
   ]
  },
  {
   "cell_type": "code",
   "execution_count": 9,
   "metadata": {},
   "outputs": [
    {
     "name": "stdout",
     "output_type": "stream",
     "text": [
      "After 6999 epoch(s), 491.101 s elapsed:\n",
      "Weight matrix = [-0.00158062 -0.00159346 -0.00167577  0.00021   ]\n",
      "Accuracy rate=0.68\n"
     ]
    }
   ],
   "source": [
    "def pocket(n, dimension, train_x, train_y, max_epoch, learning_rate):\n",
    "    weight = np.array([-1.0]*dimension)\n",
    "    misclassification = []\n",
    "\n",
    "    best_match = 0\n",
    "    best_weight = None\n",
    "    \n",
    "    for epoch in range(max_epoch):\n",
    "        hypothesis=predict(n, train_x, train_y, weight)*train_y\n",
    "        \n",
    "        delta = hypothesis*learning_rate*train_x\n",
    "     \n",
    "        match = (np.abs(predict(n, train_x, train_y, weight)-train_y)<pos_zero_threshold).sum()\n",
    "        \n",
    "        accuracy = 1.0*match/n\n",
    "    \n",
    "        if match > best_match:\n",
    "            best_match = match\n",
    "            best_weight = weight[:]\n",
    "    \n",
    "        if match==n:\n",
    "            break\n",
    "\n",
    "        weight-=np.squeeze(np.dot(delta.T,train_y).T)\n",
    "        \n",
    "        misclassification.append(n - match)\n",
    "        \n",
    "        # print 'Epoch #%d, accuracy_rate=%.3f' % (epoch, accuracy)\n",
    "\n",
    "    return best_weight, 1.0*best_match/n, predict(n, train_x, train_y, best_weight), epoch, misclassification\n",
    "\n",
    "weight, accuracy, prediction, epoch, misclassification = pocket(n, dimension, train_x, train_y, max_epoch=7000, learning_rate=1e-6)\n",
    "print 'After %d epoch(s), %.3f s elapsed:'% (epoch, time.time()-start_time)\n",
    "print 'Weight matrix =', weight\n",
    "print 'Accuracy rate=%.2f' % accuracy"
   ]
  },
  {
   "cell_type": "markdown",
   "metadata": {},
   "source": [
    "Plot the numbers of misclassified points against the number of iterations:"
   ]
  },
  {
   "cell_type": "code",
   "execution_count": 11,
   "metadata": {},
   "outputs": [
    {
     "data": {
      "text/plain": [
       "[]"
      ]
     },
     "execution_count": 11,
     "metadata": {},
     "output_type": "execute_result"
    },
    {
     "data": {
      "image/png": "[encoded data removed]",
      "text/plain": [
       "<Figure size 864x432 with 1 Axes>"
      ]
     },
     "metadata": {
      "needs_background": "light"
     },
     "output_type": "display_data"
    }
   ],
   "source": [
    "import matplotlib.pyplot as plt\n",
    "\n",
    "plt.figure(figsize=(12, 6))\n",
    "plt.scatter(range(len(misclassification)), misclassification, marker='*')\n",
    "plt.xlabel('Epoch #')\n",
    "plt.ylabel('Misclassifications')\n",
    "plt.plot()"
   ]
  },
  {
   "cell_type": "markdown",
   "metadata": {},
   "source": [
    "We noticed abnormal fluctuations after numerous epochs."
   ]
  },
  {
   "cell_type": "markdown",
   "metadata": {},
   "source": [
    "### 1.3 Logistic Regression\n",
    "\n",
    "- Read data from file:"
   ]
  },
  {
   "cell_type": "code",
   "execution_count": 13,
   "metadata": {},
   "outputs": [
    {
     "data": {
      "text/plain": [
       "(array([[0.750072  , 0.97740794, 0.88565752, 1.        ],\n",
       "        [0.87791369, 0.01925101, 0.50671112, 1.        ],\n",
       "        [0.7773246 , 0.99406596, 0.82224385, 1.        ],\n",
       "        ...,\n",
       "        [0.5155064 , 0.15354364, 0.01275495, 1.        ],\n",
       "        [0.2282263 , 0.97155357, 0.18305906, 1.        ],\n",
       "        [0.36391513, 0.49207061, 0.71952659, 1.        ]]),\n",
       " array([1, 0, 1, ..., 1, 1, 1]))"
      ]
     },
     "execution_count": 13,
     "metadata": {},
     "output_type": "execute_result"
    }
   ],
   "source": [
    "def read_data(filename):\n",
    "    input_f=open(filename, 'r')\n",
    "    input_data=[]\n",
    "    for line in input_f.readlines():\n",
    "        input_data.append([float(val) for val in line.split(',')])\n",
    "    input_data=np.array(input_data)\n",
    "    train_x=input_data[:,:-2]\n",
    "    train_y=input_data[:,-1]\n",
    "    train_x=np.concatenate((train_x, np.ones((train_x.shape[0],1))),axis=1)\n",
    "    n, dimension = train_x.shape\n",
    "    return n, dimension, train_x, train_y.reshape(-1,1)\n",
    "    \n",
    "n, dimension, X, y = read_data('classification.txt')\n",
    "y = np.squeeze(y)\n",
    "y = (y+1.1).astype('int')/2\n",
    "X, y"
   ]
  },
  {
   "cell_type": "markdown",
   "metadata": {},
   "source": [
    "As for `sigmoid` function, we modified the original form: \n",
    "$$\\theta(s)=\\frac{e^s}{1+e^s}$$\n",
    "\n",
    "According to $\\theta(-s)=1-\\theta(s)$, we can prevent the duplicate calculation of $e^s$, making it more efficient.\n",
    "$$\\theta(s)=\\frac{1}{1+e^{-s}}$$"
   ]
  },
  {
   "cell_type": "code",
   "execution_count": 16,
   "metadata": {},
   "outputs": [],
   "source": [
    "class LogisticRegression:\n",
    "    def __init__(self, learning_rate=0.01, max_iter=10000):\n",
    "        self.learning_rate = learning_rate\n",
    "        self.max_iter = max_iter\n",
    "    \n",
    "    def sigmoid(self, val):\n",
    "        return 1 / (1 + np.exp(-val))\n",
    "    \n",
    "    def fit(self, X, y):\n",
    "        \n",
    "        # weights initialization\n",
    "        self.theta = np.zeros(X.shape[1])\n",
    "        \n",
    "        # gradient descent\n",
    "        for i in range(self.max_iter):\n",
    "            hypothesis = self.sigmoid(np.dot(X, self.theta))\n",
    "            gradient = np.dot(X.T, (hypothesis - y)) / y.size\n",
    "            self.theta -= self.learning_rate * gradient\n",
    "\n",
    "        return i\n",
    "\n",
    "    \n",
    "    def predict(self, X):\n",
    "        return self.sigmoid(np.dot(X, self.theta)).round()"
   ]
  },
  {
   "cell_type": "code",
   "execution_count": 17,
   "metadata": {},
   "outputs": [
    {
     "name": "stdout",
     "output_type": "stream",
     "text": [
      "After 69999 epoch(s), 2.531 s elapsed:\n",
      "Weight matrix= [-0.17769619  0.11445235  0.07670126 -0.03150075]\n",
      "accuracy_rate= 0.5295\n"
     ]
    }
   ],
   "source": [
    "model = LogisticRegression(0.1, 70000)\n",
    "\n",
    "start_time = time.time()\n",
    "epoch=model.fit(X, y)\n",
    "print 'After %d epoch(s), %.3f s elapsed:'% (epoch, time.time()-start_time)\n",
    "\n",
    "prediction = model.predict(X).astype('int')\n",
    "\n",
    "print 'Weight matrix=', model.theta\n",
    "print 'accuracy_rate=', (prediction==y).sum()*1.0/len(prediction)"
   ]
  },
  {
   "cell_type": "markdown",
   "metadata": {},
   "source": [
    "### 1.4 Linear Regression"
   ]
  },
  {
   "cell_type": "code",
   "execution_count": 18,
   "metadata": {},
   "outputs": [
    {
     "name": "stdout",
     "output_type": "stream",
     "text": [
      "(3000, 3)\n"
     ]
    },
    {
     "data": {
      "text/html": [
       "<div>\n",
       "<style scoped>\n",
       "    .dataframe tbody tr th:only-of-type {\n",
       "        vertical-align: middle;\n",
       "    }\n",
       "\n",
       "    .dataframe tbody tr th {\n",
       "        vertical-align: top;\n",
       "    }\n",
       "\n",
       "    .dataframe thead th {\n",
       "        text-align: right;\n",
       "    }\n",
       "</style>\n",
       "<table border=\"1\" class=\"dataframe\">\n",
       "  <thead>\n",
       "    <tr style=\"text-align: right;\">\n",
       "      <th></th>\n",
       "      <th>X</th>\n",
       "      <th>Y</th>\n",
       "      <th>Z</th>\n",
       "    </tr>\n",
       "  </thead>\n",
       "  <tbody>\n",
       "    <tr>\n",
       "      <th>0</th>\n",
       "      <td>0.693781</td>\n",
       "      <td>0.697544</td>\n",
       "      <td>3.252290</td>\n",
       "    </tr>\n",
       "    <tr>\n",
       "      <th>1</th>\n",
       "      <td>0.693737</td>\n",
       "      <td>0.575576</td>\n",
       "      <td>2.898651</td>\n",
       "    </tr>\n",
       "    <tr>\n",
       "      <th>2</th>\n",
       "      <td>0.000576</td>\n",
       "      <td>0.458192</td>\n",
       "      <td>1.986979</td>\n",
       "    </tr>\n",
       "    <tr>\n",
       "      <th>3</th>\n",
       "      <td>0.194953</td>\n",
       "      <td>0.470199</td>\n",
       "      <td>2.272075</td>\n",
       "    </tr>\n",
       "    <tr>\n",
       "      <th>4</th>\n",
       "      <td>0.031775</td>\n",
       "      <td>0.026546</td>\n",
       "      <td>0.231178</td>\n",
       "    </tr>\n",
       "  </tbody>\n",
       "</table>\n",
       "</div>"
      ],
      "text/plain": [
       "          X         Y         Z\n",
       "0  0.693781  0.697544  3.252290\n",
       "1  0.693737  0.575576  2.898651\n",
       "2  0.000576  0.458192  1.986979\n",
       "3  0.194953  0.470199  2.272075\n",
       "4  0.031775  0.026546  0.231178"
      ]
     },
     "execution_count": 18,
     "metadata": {},
     "output_type": "execute_result"
    }
   ],
   "source": [
    "import numpy as np\n",
    "import pandas as pd\n",
    "\n",
    "data = pd.read_csv('linear-regression.txt',names=[\"X\",\"Y\",\"Z\"])      \n",
    "print(data.shape)\n",
    "data.head()"
   ]
  },
  {
   "cell_type": "markdown",
   "metadata": {},
   "source": [
    "In the `linear-regression.txt` given dataset, there are at total 3 different variables: X,Y and Z.\n",
    "\n",
    "X and Y are the independent variables and Z is the dependent variable. Based on the linear regression, we should finally have a form of $Z=a0+a1*X+a2*Y$."
   ]
  },
  {
   "cell_type": "code",
   "execution_count": 19,
   "metadata": {},
   "outputs": [],
   "source": [
    "X = data['X'].values\n",
    "Y = data['Y'].values\n",
    "Z = data['Z'].values\n",
    "# X and Y are the independent variables and Z is the dependent variable \n",
    "# Z=a0+a1X+a2Y"
   ]
  },
  {
   "cell_type": "code",
   "execution_count": 20,
   "metadata": {},
   "outputs": [
    {
     "data": {
      "text/plain": [
       "array([[1.00000000e+00, 6.93780796e-01, 6.97543511e-01],\n",
       "       [1.00000000e+00, 6.93737070e-01, 5.75575902e-01],\n",
       "       [1.00000000e+00, 5.75595955e-04, 4.58192235e-01],\n",
       "       ...,\n",
       "       [1.00000000e+00, 1.53260958e-01, 4.28193331e-01],\n",
       "       [1.00000000e+00, 6.04550350e-01, 8.62078270e-01],\n",
       "       [1.00000000e+00, 2.12577119e-01, 1.15651970e-01]])"
      ]
     },
     "execution_count": 20,
     "metadata": {},
     "output_type": "execute_result"
    }
   ],
   "source": [
    "l = len(X)\n",
    "X0 = np.array([np.ones(l), X, Y]).T     # Here I put the first column as all \"1\"s because the a0 is the intercept, there is no corresponding x\n",
    "Coefficient = np.array([0, 0, 0])       # Here are the coefficients. There are 3 entries: the 1st is intercept, the 2nd is X's coefficient and 3rd is Y's coefficient\n",
    "# Coefficient = np.zeros((1,3))\n",
    "Y0 = np.array(Z)                        # Actual value of Z\n",
    "X0"
   ]
  },
  {
   "cell_type": "markdown",
   "metadata": {},
   "source": [
    "In this implementation, I choose to use gradient descent algorithm to find the coefficient of a0,a1 and a2.\n",
    "The cost function J(a0,a1,a2) is computed and I update the coefficient a0,a1,a2 based on the partial derivative of cost function J every iteration. \n",
    "\n",
    "The updating equation is:\n",
    "$C=c - {learning\\_rate}* \\frac{d}{dax(J)}$.\n",
    "\n",
    "I predefine the learning rate as 0.001 and set iteration 7000 times.\n",
    "\n",
    "Here is my gradient descent function:"
   ]
  },
  {
   "cell_type": "code",
   "execution_count": 21,
   "metadata": {},
   "outputs": [],
   "source": [
    "## Here is the cost function:\n",
    "#  J=sigma(h0(xi)-yi)^2/2m\n",
    "## The gradient is the partial derivative of J: gradient= sigma(h0(xi)-yi)*xi\n",
    "## Then we update the coefficient every iteration.\n",
    "def gradient_descent(X, Y, C, learning_rate, iterations):\n",
    "    l = len(Y)    \n",
    "    for iteration in range(iterations):\n",
    "        H = X.dot(C)  # H is the hypothesis value (X bar) \n",
    "        delta_x = H - Y # delta_x is the difference between hypothesis value and actural value of Z       \n",
    "        gradient = X.T.dot(delta_x) / l  # Here is the gradient   \n",
    "        C = C - learning_rate * gradient   # We update the coefficient by subtracting learning rate multipled by the partial derivative of cost func\n",
    "#         print iteration, C, np.sum(delta_x**2)\n",
    "    return C, iteration, np.sum(delta_x**2)"
   ]
  },
  {
   "cell_type": "markdown",
   "metadata": {},
   "source": [
    "My final coefficients after 7000 iterations is:"
   ]
  },
  {
   "cell_type": "code",
   "execution_count": 23,
   "metadata": {},
   "outputs": [
    {
     "name": "stdout",
     "output_type": "stream",
     "text": [
      "Epoch # 6999 [1.20456537 0.76637821 2.04944651]\n"
     ]
    }
   ],
   "source": [
    "# 7000 Iterations with learning rate of 0.001\n",
    "Coefficients, iteration, square_error = gradient_descent(X0, Y0, Coefficient, 0.001, 7000)\n",
    "\n",
    "# Intercept a0, Coefficient of X: a1, Coefficient of Y:a2\n",
    "print 'Epoch #',iteration, Coefficients"
   ]
  },
  {
   "cell_type": "markdown",
   "metadata": {},
   "source": [
    "Thus, the fitted equation of given data is $Z=1.2046+0.76638X+2.04944Y$."
   ]
  },
  {
   "cell_type": "markdown",
   "metadata": {},
   "source": [
    "### 1.5 Additional description\n",
    "\n",
    "* The challenges we have faced: \n",
    "\n",
    "    After implementing the linear regression and logistics regression model, we run 7000 iterations with learning rate of 0.001 and finally we got the coefficients. But we are not sure that whether our answer is accurate or not. Plus, we want to find a way to assess our result and improve the accuracy.\n",
    "\n",
    "\n",
    "* Ways to improve:\n",
    "\n",
    "    Root Mean Square Error (RMSE) and R square are two major values to assess our model. We can try to add them to our implementation: low value of RMSE and high value of R^2 means that our model is good."
   ]
  },
  {
   "cell_type": "markdown",
   "metadata": {},
   "source": [
    "## Part 2 Software Familiarization\n",
    "\n",
    "### 2.1 Perceptron Learning"
   ]
  },
  {
   "cell_type": "code",
   "execution_count": null,
   "metadata": {},
   "outputs": [],
   "source": [
    "from sklearn.datasets import load_digits\n",
    "from sklearn.linear_model import Perceptron\n",
    "X, y = load_digits(return_X_y=True)\n",
    "clf = Perceptron(tol=1e-3, random_state=0)\n",
    "clf.fit(X, y)\n",
    "clf.score(X, y)"
   ]
  },
  {
   "cell_type": "markdown",
   "metadata": {},
   "source": [
    "### 2.2 Logistic Regression\n",
    "\n",
    "We can use the logistic regression function from `sk-learn` package."
   ]
  },
  {
   "cell_type": "code",
   "execution_count": null,
   "metadata": {},
   "outputs": [],
   "source": [
    "from sklearn.linear_model import LogisticRegression\n",
    "clf = LogisticRegression(fit_intercept=True, C = 1e15)clf.fit(simulated_separableish_features, simulated_labels)\n",
    "print clf.intercept_, clf.coef_"
   ]
  },
  {
   "cell_type": "markdown",
   "metadata": {},
   "source": [
    "### 2.3 Linear Regression"
   ]
  },
  {
   "cell_type": "code",
   "execution_count": null,
   "metadata": {},
   "outputs": [],
   "source": [
    "from sklearn.linear_model import LinearRegression\n",
    "from sklearn.metrics import mean_squared_error\n",
    "\n",
    "# X and Y Values\n",
    "X = np.array([math, read]).T\n",
    "Y = np.array(write)\n",
    "\n",
    "# Model Intialization\n",
    "reg = LinearRegression()\n",
    "\n",
    "# Data Fitting\n",
    "reg = reg.fit(X, Y)\n",
    "\n",
    "# Y PredictionY_\n",
    "pred = reg.predict(X)\n",
    "\n",
    "# Model Evaluation\n",
    "rmse = np.sqrt(mean_squared_error(Y, Y_pred))\n",
    "r2 = reg.score(X, Y)print(rmse)print(r2)"
   ]
  },
  {
   "cell_type": "markdown",
   "metadata": {},
   "source": [
    "## Part 3 Application\n",
    "\n",
    "The Perceptron Learning algorithm is a basis of neural network. It can be used for binary classification problems (Yes or No) such as sentiment analysis.\n",
    "\n",
    "The targeted variable of linear regression is continuous. Linear regressions can be used in business to evaluate trends and make estimates or forecasts.\n",
    "\n",
    "For logistic regression, it is a generalized linear model and the dependent variable is discrete.  It may be used to predict the risk of developing a given disease based on observed characteristics of the patient (age, sex, blood test and etc.).\n",
    "\n",
    "\n",
    "## Part 4 References\n",
    "\n",
    "- https://en.wikipedia.org/wiki/Logistic_regression\n",
    "- https://mubaris.com/posts/linear-regression/\n",
    "- https://towardsdatascience.com/building-a-logistic-regression-in-python-301d27367c24\n",
    "- https://machinelearningmastery.com/implement-perceptron-algorithm-scratch-python/\n",
    "- https://medium.com/@martinpella/logistic-regression-from-scratch-in-python-124c5636b8ac\n",
    "- Documents of `numpy` library\n",
    "- Documents of `sklearn` library\n",
    "- Documents of `matplotlib` library\n"
   ]
  }
 ],
 "metadata": {
  "celltoolbar": "Slideshow",
  "kernelspec": {
   "display_name": "Python 2",
   "language": "python",
   "name": "python2"
  },
  "language_info": {
   "codemirror_mode": {
    "name": "ipython",
    "version": 2
   },
   "file_extension": ".py",
   "mimetype": "text/x-python",
   "name": "python",
   "nbconvert_exporter": "python",
   "pygments_lexer": "ipython2",
   "version": "2.7.16"
  }
 },
 "nbformat": 4,
 "nbformat_minor": 2
}
