{
 "cells": [
  {
   "cell_type": "code",
   "execution_count": 1,
   "metadata": {},
   "outputs": [
    {
     "data": {
      "text/plain": [
       "(array([[0.750072  , 0.97740794, 0.88565752, 1.        ],\n",
       "        [0.87791369, 0.01925101, 0.50671112, 1.        ],\n",
       "        [0.7773246 , 0.99406596, 0.82224385, 1.        ],\n",
       "        ...,\n",
       "        [0.5155064 , 0.15354364, 0.01275495, 1.        ],\n",
       "        [0.2282263 , 0.97155357, 0.18305906, 1.        ],\n",
       "        [0.36391513, 0.49207061, 0.71952659, 1.        ]]),\n",
       " array([-1.,  1., -1., ...,  1., -1., -1.]))"
      ]
     },
     "execution_count": 1,
     "metadata": {},
     "output_type": "execute_result"
    }
   ],
   "source": [
    "import numpy as np\n",
    "import time\n",
    "\n",
    "def read_data(filename):\n",
    "    input_f=open(filename, 'r')\n",
    "    input_data=[]\n",
    "    for line in input_f.readlines():\n",
    "        input_data.append([float(val) for val in line.split(',')])\n",
    "    input_data=np.array(input_data)\n",
    "    train_x=input_data[:,:-2]\n",
    "    train_y=input_data[:,-2:-1]\n",
    "    train_x=np.concatenate((train_x, np.ones((train_x.shape[0],1))),axis=1)\n",
    "    n, dimension = train_x.shape\n",
    "    return n, dimension, train_x, train_y\n",
    "    \n",
    "n, dimension, train_x, train_y = read_data('classification.txt')\n",
    "train_x, np.squeeze(train_y)"
   ]
  },
  {
   "cell_type": "code",
   "execution_count": 2,
   "metadata": {},
   "outputs": [
    {
     "name": "stdout",
     "output_type": "stream",
     "text": [
      "After 2541 epoch(s), 0.867 s elapsed:\n",
      "Weight matrix = [-0.000545   -0.00054431 -0.00064126  0.002464  ]\n",
      "Accuracy rate=1.00\n"
     ]
    }
   ],
   "source": [
    "pos_zero_threshold = 1e-7\n",
    "neg_zero_threshold = -1e-7\n",
    "\n",
    "def activate(val, threshold = neg_zero_threshold):\n",
    "    activation_func = np.vectorize(lambda x: 1.0 if x > threshold else -1.0)\n",
    "    return activation_func(val)\n",
    "\n",
    "def predict(n, train_x, train_y, W):\n",
    "#     output=[activation(np.sum(train_x[i,:]*W)*train_y[i,:]) for i in range(n)]\n",
    "#     return np.array(output).reshape(-1,1)\n",
    "    return activate(np.dot(train_x, W.reshape(-1,1))*train_y)\n",
    "\n",
    "def get_accuracy(n, hypothesis, train_y):\n",
    "    return (np.abs(hypothesis-train_y)<pos_zero_threshold).sum().astype('float')/n\n",
    "\n",
    "def perceptron(n, dimension, train_x, train_y, max_epoch, learning_rate):\n",
    "#     weight=np.ones((1,dimension))*-1.0\n",
    "    weight = np.array([-1.0]*dimension)\n",
    "\n",
    "    for epoch in range(max_epoch):\n",
    "        hypothesis=predict(n, train_x, train_y, weight)#-train_y\n",
    "#         print [activation(np.sum(train_x[i,:]*weight)*train_y[i,:]) for i in range(n)],'=?=', activation(np.dot(train_x, weight.reshape(-1,1))*train_y)\n",
    "\n",
    "#         error = activation(np.dot(train_x, weight.reshape(-1,1))*train_y)\n",
    "\n",
    "        accuracy = get_accuracy(n, hypothesis, train_y)\n",
    "        \n",
    "        delta = hypothesis*learning_rate*train_x\n",
    "#         print 'Epoch #%d: accuracy_rate=%.2f'%(epoch+1,accuracy)#,(np.abs(error+train_y)<pos_zero_threshold).sum(),weight\n",
    "        \n",
    "        if (np.abs(hypothesis-train_y)<pos_zero_threshold).sum()==n:\n",
    "            break\n",
    "\n",
    "#         print delta.T, train_y, np.squeeze(np.dot(delta.T,train_y).T),weight\n",
    "#         weight-=np.dot(delta.T,train_y).T\n",
    "        weight-=np.squeeze(np.dot(delta.T,train_y).T)\n",
    "\n",
    "    return weight, accuracy, hypothesis, epoch\n",
    "\n",
    "start_time = time.time()\n",
    "weight, accuracy, prediction, epoch = perceptron(n, dimension, train_x, train_y, max_epoch=5000, learning_rate=1e-6)\n",
    "print 'After %d epoch(s), %.3f s elapsed:'% (epoch, time.time()-start_time)\n",
    "print 'Weight matrix =', weight\n",
    "print 'Accuracy rate=%.2f' % accuracy"
   ]
  },
  {
   "cell_type": "code",
   "execution_count": 3,
   "metadata": {},
   "outputs": [],
   "source": [
    "# Epoch #1: accuracy_rate=67.75% [[ 0. -2.  0. ... -2.  0.  0.]]\n",
    "# Epoch #2: accuracy_rate=100.00% [[0. 0. 0. ... 0. 0. 0.]]\n",
    "# Weight matrix = [[0.95456624 0.42006829 0.46490911 1.29      ]]\n",
    "# Accuracy rate=100.00%"
   ]
  },
  {
   "cell_type": "code",
   "execution_count": 4,
   "metadata": {},
   "outputs": [],
   "source": [
    "# Weight matrix = [[-0.04264244 -0.03744909 -0.04125117  0.1162    ]]\n",
    "# Accuracy rate=1.00"
   ]
  },
  {
   "cell_type": "code",
   "execution_count": 5,
   "metadata": {},
   "outputs": [],
   "source": [
    "# Weight matrix = [[-0.01829778 -0.01859523 -0.0214495   0.06384   ]]\n",
    "# Accuracy rate=1.00"
   ]
  },
  {
   "cell_type": "code",
   "execution_count": 6,
   "metadata": {},
   "outputs": [
    {
     "name": "stdout",
     "output_type": "stream",
     "text": [
      "[[-1.  1. -1. ...  1. -1. -1.]] 2000\n"
     ]
    }
   ],
   "source": [
    "print prediction.T, (prediction==train_y).sum()"
   ]
  },
  {
   "cell_type": "code",
   "execution_count": null,
   "metadata": {},
   "outputs": [],
   "source": []
  }
 ],
 "metadata": {
  "kernelspec": {
   "display_name": "Python 2",
   "language": "python",
   "name": "python2"
  },
  "language_info": {
   "codemirror_mode": {
    "name": "ipython",
    "version": 2
   },
   "file_extension": ".py",
   "mimetype": "text/x-python",
   "name": "python",
   "nbconvert_exporter": "python",
   "pygments_lexer": "ipython2",
   "version": "2.7.16"
  }
 },
 "nbformat": 4,
 "nbformat_minor": 2
}
